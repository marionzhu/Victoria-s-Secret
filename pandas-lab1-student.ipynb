{
 "cells": [
  {
   "cell_type": "markdown",
   "metadata": {},
   "source": [
    "<div style=\"font-variant: small-caps; \n",
    "      font-weight: normal; \n",
    "      font-size: 37px; \n",
    "      text-align: center; \n",
    "      padding: 15px; \n",
    "      margin: 10px;\">\n",
    "      <font color=orange> Pandas - Lab 1 </font><br>\n",
    "</div> \n",
    "\n",
    "<div style=\"font-variant: small-caps; \n",
    "      font-weight: normal; \n",
    "      font-size: 35px; \n",
    "      text-align: center; \n",
    "      padding: 15px; \n",
    "      margin: 10px;\">\n",
    "      -<br>\n",
    "</div> "
   ]
  },
  {
   "cell_type": "code",
   "execution_count": 2,
   "metadata": {},
   "outputs": [],
   "source": [
    "import pandas as pd\n",
    "import numpy as np\n",
    "import zipfile"
   ]
  },
  {
   "cell_type": "markdown",
   "metadata": {
    "heading_collapsed": true
   },
   "source": [
    "### import and unzip data files"
   ]
  },
  {
   "cell_type": "markdown",
   "metadata": {
    "hidden": true
   },
   "source": [
    "create a kaggle account, import data files from https://www.kaggle.com/PromptCloudHQ/innerwear-data-from-victorias-secret-and-others and store them in a `data` folder"
   ]
  },
  {
   "cell_type": "code",
   "execution_count": 134,
   "metadata": {
    "hidden": true
   },
   "outputs": [],
   "source": [
    "# # Uncomment & Execute this cell if your csv files in your data folder are zipped\n",
    "# import zipfile\n",
    "# with zipfile.ZipFile(\"data/ae_com.csv.zip\",\"r\") as zip_ref:\n",
    "#     zip_ref.extractall(\"data\")"
   ]
  },
  {
   "cell_type": "code",
   "execution_count": 135,
   "metadata": {
    "hidden": true
   },
   "outputs": [],
   "source": [
    "# def unzip_file(file):\n",
    "#     with zipfile.ZipFile(file,\"r\") as zip_ref:\n",
    "#         zip_ref.extractall(\"data\")"
   ]
  },
  {
   "cell_type": "code",
   "execution_count": 136,
   "metadata": {
    "hidden": true,
    "scrolled": true
   },
   "outputs": [
    {
     "name": "stdout",
     "output_type": "stream",
     "text": [
      "ae_com.csv              calvinklein_com.csv     shop_nordstrom_com.csv\r\n",
      "amazon_com.csv          hankypanky_com.csv      us_topshop_com.csv\r\n",
      "btemptd_com.csv         macys_com.csv           victoriassecret_com.csv\r\n"
     ]
    }
   ],
   "source": [
    "!ls data"
   ]
  },
  {
   "cell_type": "markdown",
   "metadata": {
    "heading_collapsed": true
   },
   "source": [
    "### I. Load data into pandas dataframe"
   ]
  },
  {
   "cell_type": "markdown",
   "metadata": {
    "hidden": true
   },
   "source": [
    "Use the **read_csv method** to load the Victoria's Secret data into pandas dataframe.\n",
    "\n",
    "**Note:** Have a look at the pandas doc to understand the read_csv syntax"
   ]
  },
  {
   "cell_type": "code",
   "execution_count": 137,
   "metadata": {
    "hidden": true,
    "scrolled": true
   },
   "outputs": [
    {
     "data": {
      "text/html": [
       "<div>\n",
       "<style scoped>\n",
       "    .dataframe tbody tr th:only-of-type {\n",
       "        vertical-align: middle;\n",
       "    }\n",
       "\n",
       "    .dataframe tbody tr th {\n",
       "        vertical-align: top;\n",
       "    }\n",
       "\n",
       "    .dataframe thead th {\n",
       "        text-align: right;\n",
       "    }\n",
       "</style>\n",
       "<table border=\"1\" class=\"dataframe\">\n",
       "  <thead>\n",
       "    <tr style=\"text-align: right;\">\n",
       "      <th></th>\n",
       "      <th>product_name</th>\n",
       "      <th>mrp</th>\n",
       "      <th>price</th>\n",
       "      <th>pdp_url</th>\n",
       "      <th>brand_name</th>\n",
       "      <th>product_category</th>\n",
       "      <th>retailer</th>\n",
       "      <th>description</th>\n",
       "      <th>rating</th>\n",
       "      <th>review_count</th>\n",
       "      <th>style_attributes</th>\n",
       "      <th>total_sizes</th>\n",
       "      <th>available_size</th>\n",
       "      <th>color</th>\n",
       "    </tr>\n",
       "  </thead>\n",
       "  <tbody>\n",
       "    <tr>\n",
       "      <th>0</th>\n",
       "      <td>Very Sexy Strappy Lace Thong Panty</td>\n",
       "      <td>$14.50</td>\n",
       "      <td>$14.50</td>\n",
       "      <td>https://www.victoriassecret.com/panties/shop-a...</td>\n",
       "      <td>Victoria's Secret</td>\n",
       "      <td>Strappy Lace Thong Panty</td>\n",
       "      <td>Victoriassecret US</td>\n",
       "      <td>Lots of cheek peek, pretty lace, a strappy bac...</td>\n",
       "      <td>NaN</td>\n",
       "      <td>NaN</td>\n",
       "      <td>NaN</td>\n",
       "      <td>[\"XS\", \"S\", \"M\", \"L\", \"XL\"]</td>\n",
       "      <td>S</td>\n",
       "      <td>peach melba</td>\n",
       "    </tr>\n",
       "    <tr>\n",
       "      <th>1</th>\n",
       "      <td>Very Sexy Strappy Lace Thong Panty</td>\n",
       "      <td>$14.50</td>\n",
       "      <td>$14.50</td>\n",
       "      <td>https://www.victoriassecret.com/panties/shop-a...</td>\n",
       "      <td>Victoria's Secret</td>\n",
       "      <td>Strappy Lace Thong Panty</td>\n",
       "      <td>Victoriassecret US</td>\n",
       "      <td>Lots of cheek peek, pretty lace, a strappy bac...</td>\n",
       "      <td>NaN</td>\n",
       "      <td>NaN</td>\n",
       "      <td>NaN</td>\n",
       "      <td>[\"XS\", \"S\", \"M\", \"L\", \"XL\"]</td>\n",
       "      <td>S</td>\n",
       "      <td>black</td>\n",
       "    </tr>\n",
       "    <tr>\n",
       "      <th>2</th>\n",
       "      <td>Very Sexy Strappy Lace Thong Panty</td>\n",
       "      <td>$14.50</td>\n",
       "      <td>$14.50</td>\n",
       "      <td>https://www.victoriassecret.com/panties/shop-a...</td>\n",
       "      <td>Victoria's Secret</td>\n",
       "      <td>Strappy Lace Thong Panty</td>\n",
       "      <td>Victoriassecret US</td>\n",
       "      <td>Lots of cheek peek, pretty lace, a strappy bac...</td>\n",
       "      <td>NaN</td>\n",
       "      <td>NaN</td>\n",
       "      <td>NaN</td>\n",
       "      <td>[\"XS\", \"S\", \"M\", \"L\", \"XL\"]</td>\n",
       "      <td>S</td>\n",
       "      <td>plum dust</td>\n",
       "    </tr>\n",
       "    <tr>\n",
       "      <th>3</th>\n",
       "      <td>Very Sexy Strappy Lace Thong Panty</td>\n",
       "      <td>$14.50</td>\n",
       "      <td>$14.50</td>\n",
       "      <td>https://www.victoriassecret.com/panties/shop-a...</td>\n",
       "      <td>Victoria's Secret</td>\n",
       "      <td>Strappy Lace Thong Panty</td>\n",
       "      <td>Victoriassecret US</td>\n",
       "      <td>Lots of cheek peek, pretty lace, a strappy bac...</td>\n",
       "      <td>NaN</td>\n",
       "      <td>NaN</td>\n",
       "      <td>NaN</td>\n",
       "      <td>[\"XS\", \"S\", \"M\", \"L\", \"XL\"]</td>\n",
       "      <td>S</td>\n",
       "      <td>ensign blue</td>\n",
       "    </tr>\n",
       "    <tr>\n",
       "      <th>4</th>\n",
       "      <td>Very Sexy Strappy Lace Thong Panty</td>\n",
       "      <td>$14.50</td>\n",
       "      <td>$14.50</td>\n",
       "      <td>https://www.victoriassecret.com/panties/shop-a...</td>\n",
       "      <td>Victoria's Secret</td>\n",
       "      <td>Strappy Lace Thong Panty</td>\n",
       "      <td>Victoriassecret US</td>\n",
       "      <td>Lots of cheek peek, pretty lace, a strappy bac...</td>\n",
       "      <td>NaN</td>\n",
       "      <td>NaN</td>\n",
       "      <td>NaN</td>\n",
       "      <td>[\"XS\", \"S\", \"M\", \"L\", \"XL\"]</td>\n",
       "      <td>S</td>\n",
       "      <td>fair orchid</td>\n",
       "    </tr>\n",
       "    <tr>\n",
       "      <th>...</th>\n",
       "      <td>...</td>\n",
       "      <td>...</td>\n",
       "      <td>...</td>\n",
       "      <td>...</td>\n",
       "      <td>...</td>\n",
       "      <td>...</td>\n",
       "      <td>...</td>\n",
       "      <td>...</td>\n",
       "      <td>...</td>\n",
       "      <td>...</td>\n",
       "      <td>...</td>\n",
       "      <td>...</td>\n",
       "      <td>...</td>\n",
       "      <td>...</td>\n",
       "    </tr>\n",
       "    <tr>\n",
       "      <th>453381</th>\n",
       "      <td>Dream Angels NEW! Lace Mini Slip</td>\n",
       "      <td>$48.00</td>\n",
       "      <td>$48.00</td>\n",
       "      <td>https://www.victoriassecret.com/lingerie/shop-...</td>\n",
       "      <td>Victoria's Secret</td>\n",
       "      <td>Lace Mini Slip</td>\n",
       "      <td>Victoriassecret US</td>\n",
       "      <td>All you need is a little lace, here in the cut...</td>\n",
       "      <td>NaN</td>\n",
       "      <td>NaN</td>\n",
       "      <td>NaN</td>\n",
       "      <td>[\"XS\", \"S\", \"M\", \"L\", \"XL\"]</td>\n",
       "      <td>L</td>\n",
       "      <td>coconut white</td>\n",
       "    </tr>\n",
       "    <tr>\n",
       "      <th>453382</th>\n",
       "      <td>Dream Angels NEW! Lace Mini Slip</td>\n",
       "      <td>$48.00</td>\n",
       "      <td>$48.00</td>\n",
       "      <td>https://www.victoriassecret.com/lingerie/shop-...</td>\n",
       "      <td>Victoria's Secret</td>\n",
       "      <td>Lace Mini Slip</td>\n",
       "      <td>Victoriassecret US</td>\n",
       "      <td>All you need is a little lace, here in the cut...</td>\n",
       "      <td>NaN</td>\n",
       "      <td>NaN</td>\n",
       "      <td>NaN</td>\n",
       "      <td>[\"XS\", \"S\", \"M\", \"L\", \"XL\"]</td>\n",
       "      <td>L</td>\n",
       "      <td>mulled grape</td>\n",
       "    </tr>\n",
       "    <tr>\n",
       "      <th>453383</th>\n",
       "      <td>Dream Angels NEW! Lace Mini Slip</td>\n",
       "      <td>$48.00</td>\n",
       "      <td>$48.00</td>\n",
       "      <td>https://www.victoriassecret.com/lingerie/shop-...</td>\n",
       "      <td>Victoria's Secret</td>\n",
       "      <td>Lace Mini Slip</td>\n",
       "      <td>Victoriassecret US</td>\n",
       "      <td>All you need is a little lace, here in the cut...</td>\n",
       "      <td>NaN</td>\n",
       "      <td>NaN</td>\n",
       "      <td>NaN</td>\n",
       "      <td>[\"XS\", \"S\", \"M\", \"L\", \"XL\"]</td>\n",
       "      <td>M</td>\n",
       "      <td>sheer pink</td>\n",
       "    </tr>\n",
       "    <tr>\n",
       "      <th>453384</th>\n",
       "      <td>Dream Angels NEW! Lace Mini Slip</td>\n",
       "      <td>$48.00</td>\n",
       "      <td>$48.00</td>\n",
       "      <td>https://www.victoriassecret.com/lingerie/shop-...</td>\n",
       "      <td>Victoria's Secret</td>\n",
       "      <td>Lace Mini Slip</td>\n",
       "      <td>Victoriassecret US</td>\n",
       "      <td>All you need is a little lace, here in the cut...</td>\n",
       "      <td>NaN</td>\n",
       "      <td>NaN</td>\n",
       "      <td>NaN</td>\n",
       "      <td>[\"XS\", \"S\", \"M\", \"L\", \"XL\"]</td>\n",
       "      <td>M</td>\n",
       "      <td>coconut white</td>\n",
       "    </tr>\n",
       "    <tr>\n",
       "      <th>453385</th>\n",
       "      <td>Dream Angels NEW! Lace Mini Slip</td>\n",
       "      <td>$48.00</td>\n",
       "      <td>$48.00</td>\n",
       "      <td>https://www.victoriassecret.com/lingerie/shop-...</td>\n",
       "      <td>Victoria's Secret</td>\n",
       "      <td>Lace Mini Slip</td>\n",
       "      <td>Victoriassecret US</td>\n",
       "      <td>All you need is a little lace, here in the cut...</td>\n",
       "      <td>NaN</td>\n",
       "      <td>NaN</td>\n",
       "      <td>NaN</td>\n",
       "      <td>[\"XS\", \"S\", \"M\", \"L\", \"XL\"]</td>\n",
       "      <td>M</td>\n",
       "      <td>mulled grape</td>\n",
       "    </tr>\n",
       "  </tbody>\n",
       "</table>\n",
       "<p>453386 rows × 14 columns</p>\n",
       "</div>"
      ],
      "text/plain": [
       "                              product_name      mrp    price  \\\n",
       "0       Very Sexy Strappy Lace Thong Panty  $14.50   $14.50    \n",
       "1       Very Sexy Strappy Lace Thong Panty  $14.50   $14.50    \n",
       "2       Very Sexy Strappy Lace Thong Panty  $14.50   $14.50    \n",
       "3       Very Sexy Strappy Lace Thong Panty  $14.50   $14.50    \n",
       "4       Very Sexy Strappy Lace Thong Panty  $14.50   $14.50    \n",
       "...                                    ...      ...      ...   \n",
       "453381    Dream Angels NEW! Lace Mini Slip  $48.00   $48.00    \n",
       "453382    Dream Angels NEW! Lace Mini Slip  $48.00   $48.00    \n",
       "453383    Dream Angels NEW! Lace Mini Slip  $48.00   $48.00    \n",
       "453384    Dream Angels NEW! Lace Mini Slip  $48.00   $48.00    \n",
       "453385    Dream Angels NEW! Lace Mini Slip  $48.00   $48.00    \n",
       "\n",
       "                                                  pdp_url         brand_name  \\\n",
       "0       https://www.victoriassecret.com/panties/shop-a...  Victoria's Secret   \n",
       "1       https://www.victoriassecret.com/panties/shop-a...  Victoria's Secret   \n",
       "2       https://www.victoriassecret.com/panties/shop-a...  Victoria's Secret   \n",
       "3       https://www.victoriassecret.com/panties/shop-a...  Victoria's Secret   \n",
       "4       https://www.victoriassecret.com/panties/shop-a...  Victoria's Secret   \n",
       "...                                                   ...                ...   \n",
       "453381  https://www.victoriassecret.com/lingerie/shop-...  Victoria's Secret   \n",
       "453382  https://www.victoriassecret.com/lingerie/shop-...  Victoria's Secret   \n",
       "453383  https://www.victoriassecret.com/lingerie/shop-...  Victoria's Secret   \n",
       "453384  https://www.victoriassecret.com/lingerie/shop-...  Victoria's Secret   \n",
       "453385  https://www.victoriassecret.com/lingerie/shop-...  Victoria's Secret   \n",
       "\n",
       "                product_category            retailer  \\\n",
       "0       Strappy Lace Thong Panty  Victoriassecret US   \n",
       "1       Strappy Lace Thong Panty  Victoriassecret US   \n",
       "2       Strappy Lace Thong Panty  Victoriassecret US   \n",
       "3       Strappy Lace Thong Panty  Victoriassecret US   \n",
       "4       Strappy Lace Thong Panty  Victoriassecret US   \n",
       "...                          ...                 ...   \n",
       "453381            Lace Mini Slip  Victoriassecret US   \n",
       "453382            Lace Mini Slip  Victoriassecret US   \n",
       "453383            Lace Mini Slip  Victoriassecret US   \n",
       "453384            Lace Mini Slip  Victoriassecret US   \n",
       "453385            Lace Mini Slip  Victoriassecret US   \n",
       "\n",
       "                                              description  rating  \\\n",
       "0       Lots of cheek peek, pretty lace, a strappy bac...     NaN   \n",
       "1       Lots of cheek peek, pretty lace, a strappy bac...     NaN   \n",
       "2       Lots of cheek peek, pretty lace, a strappy bac...     NaN   \n",
       "3       Lots of cheek peek, pretty lace, a strappy bac...     NaN   \n",
       "4       Lots of cheek peek, pretty lace, a strappy bac...     NaN   \n",
       "...                                                   ...     ...   \n",
       "453381  All you need is a little lace, here in the cut...     NaN   \n",
       "453382  All you need is a little lace, here in the cut...     NaN   \n",
       "453383  All you need is a little lace, here in the cut...     NaN   \n",
       "453384  All you need is a little lace, here in the cut...     NaN   \n",
       "453385  All you need is a little lace, here in the cut...     NaN   \n",
       "\n",
       "        review_count  style_attributes                  total_sizes  \\\n",
       "0                NaN               NaN  [\"XS\", \"S\", \"M\", \"L\", \"XL\"]   \n",
       "1                NaN               NaN  [\"XS\", \"S\", \"M\", \"L\", \"XL\"]   \n",
       "2                NaN               NaN  [\"XS\", \"S\", \"M\", \"L\", \"XL\"]   \n",
       "3                NaN               NaN  [\"XS\", \"S\", \"M\", \"L\", \"XL\"]   \n",
       "4                NaN               NaN  [\"XS\", \"S\", \"M\", \"L\", \"XL\"]   \n",
       "...              ...               ...                          ...   \n",
       "453381           NaN               NaN  [\"XS\", \"S\", \"M\", \"L\", \"XL\"]   \n",
       "453382           NaN               NaN  [\"XS\", \"S\", \"M\", \"L\", \"XL\"]   \n",
       "453383           NaN               NaN  [\"XS\", \"S\", \"M\", \"L\", \"XL\"]   \n",
       "453384           NaN               NaN  [\"XS\", \"S\", \"M\", \"L\", \"XL\"]   \n",
       "453385           NaN               NaN  [\"XS\", \"S\", \"M\", \"L\", \"XL\"]   \n",
       "\n",
       "       available_size          color  \n",
       "0                   S    peach melba  \n",
       "1                   S          black  \n",
       "2                   S      plum dust  \n",
       "3                   S    ensign blue  \n",
       "4                   S    fair orchid  \n",
       "...               ...            ...  \n",
       "453381              L  coconut white  \n",
       "453382              L   mulled grape  \n",
       "453383              M     sheer pink  \n",
       "453384              M  coconut white  \n",
       "453385              M   mulled grape  \n",
       "\n",
       "[453386 rows x 14 columns]"
      ]
     },
     "execution_count": 137,
     "metadata": {},
     "output_type": "execute_result"
    }
   ],
   "source": [
    "df = pd.read_csv('/Users/zhusijie/Desktop/Data Science/Data/victoriassecret_com.csv')\n",
    "df"
   ]
  },
  {
   "cell_type": "markdown",
   "metadata": {
    "hidden": true
   },
   "source": [
    "-----\n",
    "With Pandas, there are also some interesting methods that allow us to identify where you have null values (nan or empty).\n",
    "\n",
    "Apply isnull and sum methods on df. \n",
    "\n",
    "What do you get? "
   ]
  },
  {
   "cell_type": "code",
   "execution_count": 138,
   "metadata": {
    "hidden": true
   },
   "outputs": [
    {
     "data": {
      "text/plain": [
       "product_name             0\n",
       "mrp                      0\n",
       "price                    0\n",
       "pdp_url                  0\n",
       "brand_name               0\n",
       "product_category         0\n",
       "retailer                 0\n",
       "description              0\n",
       "rating              315652\n",
       "review_count        315652\n",
       "style_attributes    453386\n",
       "total_sizes              0\n",
       "available_size           0\n",
       "color                    0\n",
       "dtype: int64"
      ]
     },
     "execution_count": 138,
     "metadata": {},
     "output_type": "execute_result"
    }
   ],
   "source": [
    "df.isnull().sum() # find how many values are missing in each columns"
   ]
  },
  {
   "cell_type": "code",
   "execution_count": 139,
   "metadata": {
    "scrolled": true
   },
   "outputs": [
    {
     "data": {
      "text/html": [
       "<div>\n",
       "<style scoped>\n",
       "    .dataframe tbody tr th:only-of-type {\n",
       "        vertical-align: middle;\n",
       "    }\n",
       "\n",
       "    .dataframe tbody tr th {\n",
       "        vertical-align: top;\n",
       "    }\n",
       "\n",
       "    .dataframe thead th {\n",
       "        text-align: right;\n",
       "    }\n",
       "</style>\n",
       "<table border=\"1\" class=\"dataframe\">\n",
       "  <thead>\n",
       "    <tr style=\"text-align: right;\">\n",
       "      <th></th>\n",
       "      <th>product_name</th>\n",
       "      <th>mrp</th>\n",
       "      <th>price</th>\n",
       "      <th>pdp_url</th>\n",
       "      <th>brand_name</th>\n",
       "      <th>product_category</th>\n",
       "      <th>retailer</th>\n",
       "      <th>description</th>\n",
       "      <th>rating</th>\n",
       "      <th>review_count</th>\n",
       "      <th>style_attributes</th>\n",
       "      <th>total_sizes</th>\n",
       "      <th>available_size</th>\n",
       "      <th>color</th>\n",
       "    </tr>\n",
       "  </thead>\n",
       "  <tbody>\n",
       "    <tr>\n",
       "      <th>0</th>\n",
       "      <td>Very Sexy Strappy Lace Thong Panty</td>\n",
       "      <td>$14.50</td>\n",
       "      <td>$14.50</td>\n",
       "      <td>https://www.victoriassecret.com/panties/shop-a...</td>\n",
       "      <td>Victoria's Secret</td>\n",
       "      <td>Strappy Lace Thong Panty</td>\n",
       "      <td>Victoriassecret US</td>\n",
       "      <td>Lots of cheek peek, pretty lace, a strappy bac...</td>\n",
       "      <td>NaN</td>\n",
       "      <td>NaN</td>\n",
       "      <td>NaN</td>\n",
       "      <td>[\"XS\", \"S\", \"M\", \"L\", \"XL\"]</td>\n",
       "      <td>S</td>\n",
       "      <td>peach melba</td>\n",
       "    </tr>\n",
       "    <tr>\n",
       "      <th>1</th>\n",
       "      <td>Very Sexy Strappy Lace Thong Panty</td>\n",
       "      <td>$14.50</td>\n",
       "      <td>$14.50</td>\n",
       "      <td>https://www.victoriassecret.com/panties/shop-a...</td>\n",
       "      <td>Victoria's Secret</td>\n",
       "      <td>Strappy Lace Thong Panty</td>\n",
       "      <td>Victoriassecret US</td>\n",
       "      <td>Lots of cheek peek, pretty lace, a strappy bac...</td>\n",
       "      <td>NaN</td>\n",
       "      <td>NaN</td>\n",
       "      <td>NaN</td>\n",
       "      <td>[\"XS\", \"S\", \"M\", \"L\", \"XL\"]</td>\n",
       "      <td>S</td>\n",
       "      <td>black</td>\n",
       "    </tr>\n",
       "    <tr>\n",
       "      <th>2</th>\n",
       "      <td>Very Sexy Strappy Lace Thong Panty</td>\n",
       "      <td>$14.50</td>\n",
       "      <td>$14.50</td>\n",
       "      <td>https://www.victoriassecret.com/panties/shop-a...</td>\n",
       "      <td>Victoria's Secret</td>\n",
       "      <td>Strappy Lace Thong Panty</td>\n",
       "      <td>Victoriassecret US</td>\n",
       "      <td>Lots of cheek peek, pretty lace, a strappy bac...</td>\n",
       "      <td>NaN</td>\n",
       "      <td>NaN</td>\n",
       "      <td>NaN</td>\n",
       "      <td>[\"XS\", \"S\", \"M\", \"L\", \"XL\"]</td>\n",
       "      <td>S</td>\n",
       "      <td>plum dust</td>\n",
       "    </tr>\n",
       "    <tr>\n",
       "      <th>3</th>\n",
       "      <td>Very Sexy Strappy Lace Thong Panty</td>\n",
       "      <td>$14.50</td>\n",
       "      <td>$14.50</td>\n",
       "      <td>https://www.victoriassecret.com/panties/shop-a...</td>\n",
       "      <td>Victoria's Secret</td>\n",
       "      <td>Strappy Lace Thong Panty</td>\n",
       "      <td>Victoriassecret US</td>\n",
       "      <td>Lots of cheek peek, pretty lace, a strappy bac...</td>\n",
       "      <td>NaN</td>\n",
       "      <td>NaN</td>\n",
       "      <td>NaN</td>\n",
       "      <td>[\"XS\", \"S\", \"M\", \"L\", \"XL\"]</td>\n",
       "      <td>S</td>\n",
       "      <td>ensign blue</td>\n",
       "    </tr>\n",
       "    <tr>\n",
       "      <th>4</th>\n",
       "      <td>Very Sexy Strappy Lace Thong Panty</td>\n",
       "      <td>$14.50</td>\n",
       "      <td>$14.50</td>\n",
       "      <td>https://www.victoriassecret.com/panties/shop-a...</td>\n",
       "      <td>Victoria's Secret</td>\n",
       "      <td>Strappy Lace Thong Panty</td>\n",
       "      <td>Victoriassecret US</td>\n",
       "      <td>Lots of cheek peek, pretty lace, a strappy bac...</td>\n",
       "      <td>NaN</td>\n",
       "      <td>NaN</td>\n",
       "      <td>NaN</td>\n",
       "      <td>[\"XS\", \"S\", \"M\", \"L\", \"XL\"]</td>\n",
       "      <td>S</td>\n",
       "      <td>fair orchid</td>\n",
       "    </tr>\n",
       "    <tr>\n",
       "      <th>...</th>\n",
       "      <td>...</td>\n",
       "      <td>...</td>\n",
       "      <td>...</td>\n",
       "      <td>...</td>\n",
       "      <td>...</td>\n",
       "      <td>...</td>\n",
       "      <td>...</td>\n",
       "      <td>...</td>\n",
       "      <td>...</td>\n",
       "      <td>...</td>\n",
       "      <td>...</td>\n",
       "      <td>...</td>\n",
       "      <td>...</td>\n",
       "      <td>...</td>\n",
       "    </tr>\n",
       "    <tr>\n",
       "      <th>453381</th>\n",
       "      <td>Dream Angels NEW! Lace Mini Slip</td>\n",
       "      <td>$48.00</td>\n",
       "      <td>$48.00</td>\n",
       "      <td>https://www.victoriassecret.com/lingerie/shop-...</td>\n",
       "      <td>Victoria's Secret</td>\n",
       "      <td>Lace Mini Slip</td>\n",
       "      <td>Victoriassecret US</td>\n",
       "      <td>All you need is a little lace, here in the cut...</td>\n",
       "      <td>NaN</td>\n",
       "      <td>NaN</td>\n",
       "      <td>NaN</td>\n",
       "      <td>[\"XS\", \"S\", \"M\", \"L\", \"XL\"]</td>\n",
       "      <td>L</td>\n",
       "      <td>coconut white</td>\n",
       "    </tr>\n",
       "    <tr>\n",
       "      <th>453382</th>\n",
       "      <td>Dream Angels NEW! Lace Mini Slip</td>\n",
       "      <td>$48.00</td>\n",
       "      <td>$48.00</td>\n",
       "      <td>https://www.victoriassecret.com/lingerie/shop-...</td>\n",
       "      <td>Victoria's Secret</td>\n",
       "      <td>Lace Mini Slip</td>\n",
       "      <td>Victoriassecret US</td>\n",
       "      <td>All you need is a little lace, here in the cut...</td>\n",
       "      <td>NaN</td>\n",
       "      <td>NaN</td>\n",
       "      <td>NaN</td>\n",
       "      <td>[\"XS\", \"S\", \"M\", \"L\", \"XL\"]</td>\n",
       "      <td>L</td>\n",
       "      <td>mulled grape</td>\n",
       "    </tr>\n",
       "    <tr>\n",
       "      <th>453383</th>\n",
       "      <td>Dream Angels NEW! Lace Mini Slip</td>\n",
       "      <td>$48.00</td>\n",
       "      <td>$48.00</td>\n",
       "      <td>https://www.victoriassecret.com/lingerie/shop-...</td>\n",
       "      <td>Victoria's Secret</td>\n",
       "      <td>Lace Mini Slip</td>\n",
       "      <td>Victoriassecret US</td>\n",
       "      <td>All you need is a little lace, here in the cut...</td>\n",
       "      <td>NaN</td>\n",
       "      <td>NaN</td>\n",
       "      <td>NaN</td>\n",
       "      <td>[\"XS\", \"S\", \"M\", \"L\", \"XL\"]</td>\n",
       "      <td>M</td>\n",
       "      <td>sheer pink</td>\n",
       "    </tr>\n",
       "    <tr>\n",
       "      <th>453384</th>\n",
       "      <td>Dream Angels NEW! Lace Mini Slip</td>\n",
       "      <td>$48.00</td>\n",
       "      <td>$48.00</td>\n",
       "      <td>https://www.victoriassecret.com/lingerie/shop-...</td>\n",
       "      <td>Victoria's Secret</td>\n",
       "      <td>Lace Mini Slip</td>\n",
       "      <td>Victoriassecret US</td>\n",
       "      <td>All you need is a little lace, here in the cut...</td>\n",
       "      <td>NaN</td>\n",
       "      <td>NaN</td>\n",
       "      <td>NaN</td>\n",
       "      <td>[\"XS\", \"S\", \"M\", \"L\", \"XL\"]</td>\n",
       "      <td>M</td>\n",
       "      <td>coconut white</td>\n",
       "    </tr>\n",
       "    <tr>\n",
       "      <th>453385</th>\n",
       "      <td>Dream Angels NEW! Lace Mini Slip</td>\n",
       "      <td>$48.00</td>\n",
       "      <td>$48.00</td>\n",
       "      <td>https://www.victoriassecret.com/lingerie/shop-...</td>\n",
       "      <td>Victoria's Secret</td>\n",
       "      <td>Lace Mini Slip</td>\n",
       "      <td>Victoriassecret US</td>\n",
       "      <td>All you need is a little lace, here in the cut...</td>\n",
       "      <td>NaN</td>\n",
       "      <td>NaN</td>\n",
       "      <td>NaN</td>\n",
       "      <td>[\"XS\", \"S\", \"M\", \"L\", \"XL\"]</td>\n",
       "      <td>M</td>\n",
       "      <td>mulled grape</td>\n",
       "    </tr>\n",
       "  </tbody>\n",
       "</table>\n",
       "<p>453386 rows × 14 columns</p>\n",
       "</div>"
      ],
      "text/plain": [
       "                              product_name      mrp    price  \\\n",
       "0       Very Sexy Strappy Lace Thong Panty  $14.50   $14.50    \n",
       "1       Very Sexy Strappy Lace Thong Panty  $14.50   $14.50    \n",
       "2       Very Sexy Strappy Lace Thong Panty  $14.50   $14.50    \n",
       "3       Very Sexy Strappy Lace Thong Panty  $14.50   $14.50    \n",
       "4       Very Sexy Strappy Lace Thong Panty  $14.50   $14.50    \n",
       "...                                    ...      ...      ...   \n",
       "453381    Dream Angels NEW! Lace Mini Slip  $48.00   $48.00    \n",
       "453382    Dream Angels NEW! Lace Mini Slip  $48.00   $48.00    \n",
       "453383    Dream Angels NEW! Lace Mini Slip  $48.00   $48.00    \n",
       "453384    Dream Angels NEW! Lace Mini Slip  $48.00   $48.00    \n",
       "453385    Dream Angels NEW! Lace Mini Slip  $48.00   $48.00    \n",
       "\n",
       "                                                  pdp_url         brand_name  \\\n",
       "0       https://www.victoriassecret.com/panties/shop-a...  Victoria's Secret   \n",
       "1       https://www.victoriassecret.com/panties/shop-a...  Victoria's Secret   \n",
       "2       https://www.victoriassecret.com/panties/shop-a...  Victoria's Secret   \n",
       "3       https://www.victoriassecret.com/panties/shop-a...  Victoria's Secret   \n",
       "4       https://www.victoriassecret.com/panties/shop-a...  Victoria's Secret   \n",
       "...                                                   ...                ...   \n",
       "453381  https://www.victoriassecret.com/lingerie/shop-...  Victoria's Secret   \n",
       "453382  https://www.victoriassecret.com/lingerie/shop-...  Victoria's Secret   \n",
       "453383  https://www.victoriassecret.com/lingerie/shop-...  Victoria's Secret   \n",
       "453384  https://www.victoriassecret.com/lingerie/shop-...  Victoria's Secret   \n",
       "453385  https://www.victoriassecret.com/lingerie/shop-...  Victoria's Secret   \n",
       "\n",
       "                product_category            retailer  \\\n",
       "0       Strappy Lace Thong Panty  Victoriassecret US   \n",
       "1       Strappy Lace Thong Panty  Victoriassecret US   \n",
       "2       Strappy Lace Thong Panty  Victoriassecret US   \n",
       "3       Strappy Lace Thong Panty  Victoriassecret US   \n",
       "4       Strappy Lace Thong Panty  Victoriassecret US   \n",
       "...                          ...                 ...   \n",
       "453381            Lace Mini Slip  Victoriassecret US   \n",
       "453382            Lace Mini Slip  Victoriassecret US   \n",
       "453383            Lace Mini Slip  Victoriassecret US   \n",
       "453384            Lace Mini Slip  Victoriassecret US   \n",
       "453385            Lace Mini Slip  Victoriassecret US   \n",
       "\n",
       "                                              description  rating  \\\n",
       "0       Lots of cheek peek, pretty lace, a strappy bac...     NaN   \n",
       "1       Lots of cheek peek, pretty lace, a strappy bac...     NaN   \n",
       "2       Lots of cheek peek, pretty lace, a strappy bac...     NaN   \n",
       "3       Lots of cheek peek, pretty lace, a strappy bac...     NaN   \n",
       "4       Lots of cheek peek, pretty lace, a strappy bac...     NaN   \n",
       "...                                                   ...     ...   \n",
       "453381  All you need is a little lace, here in the cut...     NaN   \n",
       "453382  All you need is a little lace, here in the cut...     NaN   \n",
       "453383  All you need is a little lace, here in the cut...     NaN   \n",
       "453384  All you need is a little lace, here in the cut...     NaN   \n",
       "453385  All you need is a little lace, here in the cut...     NaN   \n",
       "\n",
       "        review_count  style_attributes                  total_sizes  \\\n",
       "0                NaN               NaN  [\"XS\", \"S\", \"M\", \"L\", \"XL\"]   \n",
       "1                NaN               NaN  [\"XS\", \"S\", \"M\", \"L\", \"XL\"]   \n",
       "2                NaN               NaN  [\"XS\", \"S\", \"M\", \"L\", \"XL\"]   \n",
       "3                NaN               NaN  [\"XS\", \"S\", \"M\", \"L\", \"XL\"]   \n",
       "4                NaN               NaN  [\"XS\", \"S\", \"M\", \"L\", \"XL\"]   \n",
       "...              ...               ...                          ...   \n",
       "453381           NaN               NaN  [\"XS\", \"S\", \"M\", \"L\", \"XL\"]   \n",
       "453382           NaN               NaN  [\"XS\", \"S\", \"M\", \"L\", \"XL\"]   \n",
       "453383           NaN               NaN  [\"XS\", \"S\", \"M\", \"L\", \"XL\"]   \n",
       "453384           NaN               NaN  [\"XS\", \"S\", \"M\", \"L\", \"XL\"]   \n",
       "453385           NaN               NaN  [\"XS\", \"S\", \"M\", \"L\", \"XL\"]   \n",
       "\n",
       "       available_size          color  \n",
       "0                   S    peach melba  \n",
       "1                   S          black  \n",
       "2                   S      plum dust  \n",
       "3                   S    ensign blue  \n",
       "4                   S    fair orchid  \n",
       "...               ...            ...  \n",
       "453381              L  coconut white  \n",
       "453382              L   mulled grape  \n",
       "453383              M     sheer pink  \n",
       "453384              M  coconut white  \n",
       "453385              M   mulled grape  \n",
       "\n",
       "[453386 rows x 14 columns]"
      ]
     },
     "execution_count": 139,
     "metadata": {},
     "output_type": "execute_result"
    }
   ],
   "source": [
    "df[df.isna().any(axis=1)] # find all the missing values"
   ]
  },
  {
   "cell_type": "markdown",
   "metadata": {
    "hidden": true
   },
   "source": [
    "---\n",
    "Apply the `value_counts()` method to df considering the 'price' and 'product_name' columns"
   ]
  },
  {
   "cell_type": "code",
   "execution_count": 140,
   "metadata": {
    "hidden": true
   },
   "outputs": [
    {
     "data": {
      "text/plain": [
       "product_name                                                            price  \n",
       "Victoria Sport NEW! Incredible by Victoria Sport Bra                    $36.50     7163\n",
       "Victoria Sport NEW! Incredible by Victoria Sport Front-close Sport Bra  $36.50     6994\n",
       "Victoria Sport Knockout by Victoria Sport Front-Close Sport Bra         $19.99     6545\n",
       "PINK NEW! Wear Everywhere Push-Up Bra                                   $34.95     6093\n",
       "Victoria Sport Incredible by Victoria Sport Bra                         $19.99     5205\n",
       "                                                                                   ... \n",
       "Sleep Kimono                                                            $9.99         3\n",
       "PINK Fresh & Clean Gym Kit                                              $42.00        3\n",
       "Very Sexy Heart Lace Garter Belt                                        $19.99        2\n",
       "Cotton Lingerie Bikini Panty                                            $4.99         2\n",
       "Cotton Lingerie Thong Panty                                             $3.99         1\n",
       "Name: count, Length: 1101, dtype: int64"
      ]
     },
     "execution_count": 140,
     "metadata": {},
     "output_type": "execute_result"
    }
   ],
   "source": [
    "df[['product_name','price']].value_counts()"
   ]
  },
  {
   "cell_type": "markdown",
   "metadata": {
    "heading_collapsed": true
   },
   "source": [
    "### II. Preprocess data"
   ]
  },
  {
   "cell_type": "markdown",
   "metadata": {
    "hidden": true
   },
   "source": [
    "We are going to preprocess the dataset using the Pandas methods."
   ]
  },
  {
   "cell_type": "markdown",
   "metadata": {
    "heading_collapsed": true,
    "hidden": true
   },
   "source": [
    "#### Step 1:\n",
    "\n",
    "Convert `price` and `mrp` columns to numerics"
   ]
  },
  {
   "cell_type": "markdown",
   "metadata": {
    "hidden": true
   },
   "source": [
    "First check all the values of 'mrp' and 'price' columns using value_counts().\n",
    "And save them into new variables. "
   ]
  },
  {
   "cell_type": "code",
   "execution_count": 146,
   "metadata": {
    "hidden": true
   },
   "outputs": [
    {
     "data": {
      "text/plain": [
       "0         14.50 \n",
       "1         14.50 \n",
       "2         14.50 \n",
       "3         14.50 \n",
       "4         14.50 \n",
       "           ...  \n",
       "453381    48.00 \n",
       "453382    48.00 \n",
       "453383    48.00 \n",
       "453384    48.00 \n",
       "453385    48.00 \n",
       "Name: mrp, Length: 453386, dtype: object"
      ]
     },
     "execution_count": 146,
     "metadata": {},
     "output_type": "execute_result"
    }
   ],
   "source": [
    "df['mrp'] = df['mrp'].apply(lambda x : x.replace('$',''))\n",
    "df['mrp']"
   ]
  },
  {
   "cell_type": "code",
   "execution_count": 149,
   "metadata": {
    "scrolled": true
   },
   "outputs": [
    {
     "ename": "ValueError",
     "evalue": "could not convert string to float: '₡24.769'",
     "output_type": "error",
     "traceback": [
      "\u001b[0;31m---------------------------------------------------------------------------\u001b[0m",
      "\u001b[0;31mValueError\u001b[0m                                Traceback (most recent call last)",
      "Cell \u001b[0;32mIn[149], line 1\u001b[0m\n\u001b[0;32m----> 1\u001b[0m df[\u001b[38;5;124m'\u001b[39m\u001b[38;5;124mmrp\u001b[39m\u001b[38;5;124m'\u001b[39m]\u001b[38;5;241m.\u001b[39mastype(\u001b[38;5;28mfloat\u001b[39m)\n",
      "File \u001b[0;32m~/anaconda3/lib/python3.11/site-packages/pandas/core/generic.py:6324\u001b[0m, in \u001b[0;36mNDFrame.astype\u001b[0;34m(self, dtype, copy, errors)\u001b[0m\n\u001b[1;32m   6317\u001b[0m     results \u001b[38;5;241m=\u001b[39m [\n\u001b[1;32m   6318\u001b[0m         \u001b[38;5;28mself\u001b[39m\u001b[38;5;241m.\u001b[39miloc[:, i]\u001b[38;5;241m.\u001b[39mastype(dtype, copy\u001b[38;5;241m=\u001b[39mcopy)\n\u001b[1;32m   6319\u001b[0m         \u001b[38;5;28;01mfor\u001b[39;00m i \u001b[38;5;129;01min\u001b[39;00m \u001b[38;5;28mrange\u001b[39m(\u001b[38;5;28mlen\u001b[39m(\u001b[38;5;28mself\u001b[39m\u001b[38;5;241m.\u001b[39mcolumns))\n\u001b[1;32m   6320\u001b[0m     ]\n\u001b[1;32m   6322\u001b[0m \u001b[38;5;28;01melse\u001b[39;00m:\n\u001b[1;32m   6323\u001b[0m     \u001b[38;5;66;03m# else, only a single dtype is given\u001b[39;00m\n\u001b[0;32m-> 6324\u001b[0m     new_data \u001b[38;5;241m=\u001b[39m \u001b[38;5;28mself\u001b[39m\u001b[38;5;241m.\u001b[39m_mgr\u001b[38;5;241m.\u001b[39mastype(dtype\u001b[38;5;241m=\u001b[39mdtype, copy\u001b[38;5;241m=\u001b[39mcopy, errors\u001b[38;5;241m=\u001b[39merrors)\n\u001b[1;32m   6325\u001b[0m     \u001b[38;5;28;01mreturn\u001b[39;00m \u001b[38;5;28mself\u001b[39m\u001b[38;5;241m.\u001b[39m_constructor(new_data)\u001b[38;5;241m.\u001b[39m__finalize__(\u001b[38;5;28mself\u001b[39m, method\u001b[38;5;241m=\u001b[39m\u001b[38;5;124m\"\u001b[39m\u001b[38;5;124mastype\u001b[39m\u001b[38;5;124m\"\u001b[39m)\n\u001b[1;32m   6327\u001b[0m \u001b[38;5;66;03m# GH 33113: handle empty frame or series\u001b[39;00m\n",
      "File \u001b[0;32m~/anaconda3/lib/python3.11/site-packages/pandas/core/internals/managers.py:451\u001b[0m, in \u001b[0;36mBaseBlockManager.astype\u001b[0;34m(self, dtype, copy, errors)\u001b[0m\n\u001b[1;32m    448\u001b[0m \u001b[38;5;28;01melif\u001b[39;00m using_copy_on_write():\n\u001b[1;32m    449\u001b[0m     copy \u001b[38;5;241m=\u001b[39m \u001b[38;5;28;01mFalse\u001b[39;00m\n\u001b[0;32m--> 451\u001b[0m \u001b[38;5;28;01mreturn\u001b[39;00m \u001b[38;5;28mself\u001b[39m\u001b[38;5;241m.\u001b[39mapply(\n\u001b[1;32m    452\u001b[0m     \u001b[38;5;124m\"\u001b[39m\u001b[38;5;124mastype\u001b[39m\u001b[38;5;124m\"\u001b[39m,\n\u001b[1;32m    453\u001b[0m     dtype\u001b[38;5;241m=\u001b[39mdtype,\n\u001b[1;32m    454\u001b[0m     copy\u001b[38;5;241m=\u001b[39mcopy,\n\u001b[1;32m    455\u001b[0m     errors\u001b[38;5;241m=\u001b[39merrors,\n\u001b[1;32m    456\u001b[0m     using_cow\u001b[38;5;241m=\u001b[39musing_copy_on_write(),\n\u001b[1;32m    457\u001b[0m )\n",
      "File \u001b[0;32m~/anaconda3/lib/python3.11/site-packages/pandas/core/internals/managers.py:352\u001b[0m, in \u001b[0;36mBaseBlockManager.apply\u001b[0;34m(self, f, align_keys, **kwargs)\u001b[0m\n\u001b[1;32m    350\u001b[0m         applied \u001b[38;5;241m=\u001b[39m b\u001b[38;5;241m.\u001b[39mapply(f, \u001b[38;5;241m*\u001b[39m\u001b[38;5;241m*\u001b[39mkwargs)\n\u001b[1;32m    351\u001b[0m     \u001b[38;5;28;01melse\u001b[39;00m:\n\u001b[0;32m--> 352\u001b[0m         applied \u001b[38;5;241m=\u001b[39m \u001b[38;5;28mgetattr\u001b[39m(b, f)(\u001b[38;5;241m*\u001b[39m\u001b[38;5;241m*\u001b[39mkwargs)\n\u001b[1;32m    353\u001b[0m     result_blocks \u001b[38;5;241m=\u001b[39m extend_blocks(applied, result_blocks)\n\u001b[1;32m    355\u001b[0m out \u001b[38;5;241m=\u001b[39m \u001b[38;5;28mtype\u001b[39m(\u001b[38;5;28mself\u001b[39m)\u001b[38;5;241m.\u001b[39mfrom_blocks(result_blocks, \u001b[38;5;28mself\u001b[39m\u001b[38;5;241m.\u001b[39maxes)\n",
      "File \u001b[0;32m~/anaconda3/lib/python3.11/site-packages/pandas/core/internals/blocks.py:511\u001b[0m, in \u001b[0;36mBlock.astype\u001b[0;34m(self, dtype, copy, errors, using_cow)\u001b[0m\n\u001b[1;32m    491\u001b[0m \u001b[38;5;250m\u001b[39m\u001b[38;5;124;03m\"\"\"\u001b[39;00m\n\u001b[1;32m    492\u001b[0m \u001b[38;5;124;03mCoerce to the new dtype.\u001b[39;00m\n\u001b[1;32m    493\u001b[0m \n\u001b[0;32m   (...)\u001b[0m\n\u001b[1;32m    507\u001b[0m \u001b[38;5;124;03mBlock\u001b[39;00m\n\u001b[1;32m    508\u001b[0m \u001b[38;5;124;03m\"\"\"\u001b[39;00m\n\u001b[1;32m    509\u001b[0m values \u001b[38;5;241m=\u001b[39m \u001b[38;5;28mself\u001b[39m\u001b[38;5;241m.\u001b[39mvalues\n\u001b[0;32m--> 511\u001b[0m new_values \u001b[38;5;241m=\u001b[39m astype_array_safe(values, dtype, copy\u001b[38;5;241m=\u001b[39mcopy, errors\u001b[38;5;241m=\u001b[39merrors)\n\u001b[1;32m    513\u001b[0m new_values \u001b[38;5;241m=\u001b[39m maybe_coerce_values(new_values)\n\u001b[1;32m    515\u001b[0m refs \u001b[38;5;241m=\u001b[39m \u001b[38;5;28;01mNone\u001b[39;00m\n",
      "File \u001b[0;32m~/anaconda3/lib/python3.11/site-packages/pandas/core/dtypes/astype.py:242\u001b[0m, in \u001b[0;36mastype_array_safe\u001b[0;34m(values, dtype, copy, errors)\u001b[0m\n\u001b[1;32m    239\u001b[0m     dtype \u001b[38;5;241m=\u001b[39m dtype\u001b[38;5;241m.\u001b[39mnumpy_dtype\n\u001b[1;32m    241\u001b[0m \u001b[38;5;28;01mtry\u001b[39;00m:\n\u001b[0;32m--> 242\u001b[0m     new_values \u001b[38;5;241m=\u001b[39m astype_array(values, dtype, copy\u001b[38;5;241m=\u001b[39mcopy)\n\u001b[1;32m    243\u001b[0m \u001b[38;5;28;01mexcept\u001b[39;00m (\u001b[38;5;167;01mValueError\u001b[39;00m, \u001b[38;5;167;01mTypeError\u001b[39;00m):\n\u001b[1;32m    244\u001b[0m     \u001b[38;5;66;03m# e.g. _astype_nansafe can fail on object-dtype of strings\u001b[39;00m\n\u001b[1;32m    245\u001b[0m     \u001b[38;5;66;03m#  trying to convert to float\u001b[39;00m\n\u001b[1;32m    246\u001b[0m     \u001b[38;5;28;01mif\u001b[39;00m errors \u001b[38;5;241m==\u001b[39m \u001b[38;5;124m\"\u001b[39m\u001b[38;5;124mignore\u001b[39m\u001b[38;5;124m\"\u001b[39m:\n",
      "File \u001b[0;32m~/anaconda3/lib/python3.11/site-packages/pandas/core/dtypes/astype.py:187\u001b[0m, in \u001b[0;36mastype_array\u001b[0;34m(values, dtype, copy)\u001b[0m\n\u001b[1;32m    184\u001b[0m     values \u001b[38;5;241m=\u001b[39m values\u001b[38;5;241m.\u001b[39mastype(dtype, copy\u001b[38;5;241m=\u001b[39mcopy)\n\u001b[1;32m    186\u001b[0m \u001b[38;5;28;01melse\u001b[39;00m:\n\u001b[0;32m--> 187\u001b[0m     values \u001b[38;5;241m=\u001b[39m _astype_nansafe(values, dtype, copy\u001b[38;5;241m=\u001b[39mcopy)\n\u001b[1;32m    189\u001b[0m \u001b[38;5;66;03m# in pandas we don't store numpy str dtypes, so convert to object\u001b[39;00m\n\u001b[1;32m    190\u001b[0m \u001b[38;5;28;01mif\u001b[39;00m \u001b[38;5;28misinstance\u001b[39m(dtype, np\u001b[38;5;241m.\u001b[39mdtype) \u001b[38;5;129;01mand\u001b[39;00m \u001b[38;5;28missubclass\u001b[39m(values\u001b[38;5;241m.\u001b[39mdtype\u001b[38;5;241m.\u001b[39mtype, \u001b[38;5;28mstr\u001b[39m):\n",
      "File \u001b[0;32m~/anaconda3/lib/python3.11/site-packages/pandas/core/dtypes/astype.py:138\u001b[0m, in \u001b[0;36m_astype_nansafe\u001b[0;34m(arr, dtype, copy, skipna)\u001b[0m\n\u001b[1;32m    134\u001b[0m     \u001b[38;5;28;01mraise\u001b[39;00m \u001b[38;5;167;01mValueError\u001b[39;00m(msg)\n\u001b[1;32m    136\u001b[0m \u001b[38;5;28;01mif\u001b[39;00m copy \u001b[38;5;129;01mor\u001b[39;00m is_object_dtype(arr\u001b[38;5;241m.\u001b[39mdtype) \u001b[38;5;129;01mor\u001b[39;00m is_object_dtype(dtype):\n\u001b[1;32m    137\u001b[0m     \u001b[38;5;66;03m# Explicit copy, or required since NumPy can't view from / to object.\u001b[39;00m\n\u001b[0;32m--> 138\u001b[0m     \u001b[38;5;28;01mreturn\u001b[39;00m arr\u001b[38;5;241m.\u001b[39mastype(dtype, copy\u001b[38;5;241m=\u001b[39m\u001b[38;5;28;01mTrue\u001b[39;00m)\n\u001b[1;32m    140\u001b[0m \u001b[38;5;28;01mreturn\u001b[39;00m arr\u001b[38;5;241m.\u001b[39mastype(dtype, copy\u001b[38;5;241m=\u001b[39mcopy)\n",
      "\u001b[0;31mValueError\u001b[0m: could not convert string to float: '₡24.769'"
     ]
    }
   ],
   "source": [
    "df['mrp'].astype(float) # could not change it to float because there are still other strings like '₡24.769'"
   ]
  },
  {
   "cell_type": "markdown",
   "metadata": {
    "hidden": true
   },
   "source": [
    "Check for the last values in the value_counts. You can use here the tail method."
   ]
  },
  {
   "cell_type": "code",
   "execution_count": 148,
   "metadata": {
    "hidden": true,
    "scrolled": true
   },
   "outputs": [
    {
     "data": {
      "text/html": [
       "<div>\n",
       "<style scoped>\n",
       "    .dataframe tbody tr th:only-of-type {\n",
       "        vertical-align: middle;\n",
       "    }\n",
       "\n",
       "    .dataframe tbody tr th {\n",
       "        vertical-align: top;\n",
       "    }\n",
       "\n",
       "    .dataframe thead th {\n",
       "        text-align: right;\n",
       "    }\n",
       "</style>\n",
       "<table border=\"1\" class=\"dataframe\">\n",
       "  <thead>\n",
       "    <tr style=\"text-align: right;\">\n",
       "      <th></th>\n",
       "      <th>product_name</th>\n",
       "      <th>mrp</th>\n",
       "      <th>price</th>\n",
       "      <th>pdp_url</th>\n",
       "      <th>brand_name</th>\n",
       "      <th>product_category</th>\n",
       "      <th>retailer</th>\n",
       "      <th>description</th>\n",
       "      <th>rating</th>\n",
       "      <th>review_count</th>\n",
       "      <th>style_attributes</th>\n",
       "      <th>total_sizes</th>\n",
       "      <th>available_size</th>\n",
       "      <th>color</th>\n",
       "    </tr>\n",
       "  </thead>\n",
       "  <tbody>\n",
       "    <tr>\n",
       "      <th>453376</th>\n",
       "      <td>Dream Angels NEW! Lace Mini Slip</td>\n",
       "      <td>48.00</td>\n",
       "      <td>$48.00</td>\n",
       "      <td>https://www.victoriassecret.com/lingerie/shop-...</td>\n",
       "      <td>Victoria's Secret</td>\n",
       "      <td>Lace Mini Slip</td>\n",
       "      <td>Victoriassecret US</td>\n",
       "      <td>All you need is a little lace, here in the cut...</td>\n",
       "      <td>NaN</td>\n",
       "      <td>NaN</td>\n",
       "      <td>NaN</td>\n",
       "      <td>[\"XS\", \"S\", \"M\", \"L\", \"XL\"]</td>\n",
       "      <td>XL</td>\n",
       "      <td>mulled grape</td>\n",
       "    </tr>\n",
       "    <tr>\n",
       "      <th>453377</th>\n",
       "      <td>Dream Angels NEW! Lace Mini Slip</td>\n",
       "      <td>48.00</td>\n",
       "      <td>$48.00</td>\n",
       "      <td>https://www.victoriassecret.com/lingerie/shop-...</td>\n",
       "      <td>Victoria's Secret</td>\n",
       "      <td>Lace Mini Slip</td>\n",
       "      <td>Victoriassecret US</td>\n",
       "      <td>All you need is a little lace, here in the cut...</td>\n",
       "      <td>NaN</td>\n",
       "      <td>NaN</td>\n",
       "      <td>NaN</td>\n",
       "      <td>[\"XS\", \"S\", \"M\", \"L\", \"XL\"]</td>\n",
       "      <td>XS</td>\n",
       "      <td>sheer pink</td>\n",
       "    </tr>\n",
       "    <tr>\n",
       "      <th>453378</th>\n",
       "      <td>Dream Angels NEW! Lace Mini Slip</td>\n",
       "      <td>48.00</td>\n",
       "      <td>$48.00</td>\n",
       "      <td>https://www.victoriassecret.com/lingerie/shop-...</td>\n",
       "      <td>Victoria's Secret</td>\n",
       "      <td>Lace Mini Slip</td>\n",
       "      <td>Victoriassecret US</td>\n",
       "      <td>All you need is a little lace, here in the cut...</td>\n",
       "      <td>NaN</td>\n",
       "      <td>NaN</td>\n",
       "      <td>NaN</td>\n",
       "      <td>[\"XS\", \"S\", \"M\", \"L\", \"XL\"]</td>\n",
       "      <td>XS</td>\n",
       "      <td>coconut white</td>\n",
       "    </tr>\n",
       "    <tr>\n",
       "      <th>453379</th>\n",
       "      <td>Dream Angels NEW! Lace Mini Slip</td>\n",
       "      <td>48.00</td>\n",
       "      <td>$48.00</td>\n",
       "      <td>https://www.victoriassecret.com/lingerie/shop-...</td>\n",
       "      <td>Victoria's Secret</td>\n",
       "      <td>Lace Mini Slip</td>\n",
       "      <td>Victoriassecret US</td>\n",
       "      <td>All you need is a little lace, here in the cut...</td>\n",
       "      <td>NaN</td>\n",
       "      <td>NaN</td>\n",
       "      <td>NaN</td>\n",
       "      <td>[\"XS\", \"S\", \"M\", \"L\", \"XL\"]</td>\n",
       "      <td>XS</td>\n",
       "      <td>mulled grape</td>\n",
       "    </tr>\n",
       "    <tr>\n",
       "      <th>453380</th>\n",
       "      <td>Dream Angels NEW! Lace Mini Slip</td>\n",
       "      <td>48.00</td>\n",
       "      <td>$48.00</td>\n",
       "      <td>https://www.victoriassecret.com/lingerie/shop-...</td>\n",
       "      <td>Victoria's Secret</td>\n",
       "      <td>Lace Mini Slip</td>\n",
       "      <td>Victoriassecret US</td>\n",
       "      <td>All you need is a little lace, here in the cut...</td>\n",
       "      <td>NaN</td>\n",
       "      <td>NaN</td>\n",
       "      <td>NaN</td>\n",
       "      <td>[\"XS\", \"S\", \"M\", \"L\", \"XL\"]</td>\n",
       "      <td>L</td>\n",
       "      <td>sheer pink</td>\n",
       "    </tr>\n",
       "    <tr>\n",
       "      <th>453381</th>\n",
       "      <td>Dream Angels NEW! Lace Mini Slip</td>\n",
       "      <td>48.00</td>\n",
       "      <td>$48.00</td>\n",
       "      <td>https://www.victoriassecret.com/lingerie/shop-...</td>\n",
       "      <td>Victoria's Secret</td>\n",
       "      <td>Lace Mini Slip</td>\n",
       "      <td>Victoriassecret US</td>\n",
       "      <td>All you need is a little lace, here in the cut...</td>\n",
       "      <td>NaN</td>\n",
       "      <td>NaN</td>\n",
       "      <td>NaN</td>\n",
       "      <td>[\"XS\", \"S\", \"M\", \"L\", \"XL\"]</td>\n",
       "      <td>L</td>\n",
       "      <td>coconut white</td>\n",
       "    </tr>\n",
       "    <tr>\n",
       "      <th>453382</th>\n",
       "      <td>Dream Angels NEW! Lace Mini Slip</td>\n",
       "      <td>48.00</td>\n",
       "      <td>$48.00</td>\n",
       "      <td>https://www.victoriassecret.com/lingerie/shop-...</td>\n",
       "      <td>Victoria's Secret</td>\n",
       "      <td>Lace Mini Slip</td>\n",
       "      <td>Victoriassecret US</td>\n",
       "      <td>All you need is a little lace, here in the cut...</td>\n",
       "      <td>NaN</td>\n",
       "      <td>NaN</td>\n",
       "      <td>NaN</td>\n",
       "      <td>[\"XS\", \"S\", \"M\", \"L\", \"XL\"]</td>\n",
       "      <td>L</td>\n",
       "      <td>mulled grape</td>\n",
       "    </tr>\n",
       "    <tr>\n",
       "      <th>453383</th>\n",
       "      <td>Dream Angels NEW! Lace Mini Slip</td>\n",
       "      <td>48.00</td>\n",
       "      <td>$48.00</td>\n",
       "      <td>https://www.victoriassecret.com/lingerie/shop-...</td>\n",
       "      <td>Victoria's Secret</td>\n",
       "      <td>Lace Mini Slip</td>\n",
       "      <td>Victoriassecret US</td>\n",
       "      <td>All you need is a little lace, here in the cut...</td>\n",
       "      <td>NaN</td>\n",
       "      <td>NaN</td>\n",
       "      <td>NaN</td>\n",
       "      <td>[\"XS\", \"S\", \"M\", \"L\", \"XL\"]</td>\n",
       "      <td>M</td>\n",
       "      <td>sheer pink</td>\n",
       "    </tr>\n",
       "    <tr>\n",
       "      <th>453384</th>\n",
       "      <td>Dream Angels NEW! Lace Mini Slip</td>\n",
       "      <td>48.00</td>\n",
       "      <td>$48.00</td>\n",
       "      <td>https://www.victoriassecret.com/lingerie/shop-...</td>\n",
       "      <td>Victoria's Secret</td>\n",
       "      <td>Lace Mini Slip</td>\n",
       "      <td>Victoriassecret US</td>\n",
       "      <td>All you need is a little lace, here in the cut...</td>\n",
       "      <td>NaN</td>\n",
       "      <td>NaN</td>\n",
       "      <td>NaN</td>\n",
       "      <td>[\"XS\", \"S\", \"M\", \"L\", \"XL\"]</td>\n",
       "      <td>M</td>\n",
       "      <td>coconut white</td>\n",
       "    </tr>\n",
       "    <tr>\n",
       "      <th>453385</th>\n",
       "      <td>Dream Angels NEW! Lace Mini Slip</td>\n",
       "      <td>48.00</td>\n",
       "      <td>$48.00</td>\n",
       "      <td>https://www.victoriassecret.com/lingerie/shop-...</td>\n",
       "      <td>Victoria's Secret</td>\n",
       "      <td>Lace Mini Slip</td>\n",
       "      <td>Victoriassecret US</td>\n",
       "      <td>All you need is a little lace, here in the cut...</td>\n",
       "      <td>NaN</td>\n",
       "      <td>NaN</td>\n",
       "      <td>NaN</td>\n",
       "      <td>[\"XS\", \"S\", \"M\", \"L\", \"XL\"]</td>\n",
       "      <td>M</td>\n",
       "      <td>mulled grape</td>\n",
       "    </tr>\n",
       "  </tbody>\n",
       "</table>\n",
       "</div>"
      ],
      "text/plain": [
       "                            product_name     mrp    price  \\\n",
       "453376  Dream Angels NEW! Lace Mini Slip  48.00   $48.00    \n",
       "453377  Dream Angels NEW! Lace Mini Slip  48.00   $48.00    \n",
       "453378  Dream Angels NEW! Lace Mini Slip  48.00   $48.00    \n",
       "453379  Dream Angels NEW! Lace Mini Slip  48.00   $48.00    \n",
       "453380  Dream Angels NEW! Lace Mini Slip  48.00   $48.00    \n",
       "453381  Dream Angels NEW! Lace Mini Slip  48.00   $48.00    \n",
       "453382  Dream Angels NEW! Lace Mini Slip  48.00   $48.00    \n",
       "453383  Dream Angels NEW! Lace Mini Slip  48.00   $48.00    \n",
       "453384  Dream Angels NEW! Lace Mini Slip  48.00   $48.00    \n",
       "453385  Dream Angels NEW! Lace Mini Slip  48.00   $48.00    \n",
       "\n",
       "                                                  pdp_url         brand_name  \\\n",
       "453376  https://www.victoriassecret.com/lingerie/shop-...  Victoria's Secret   \n",
       "453377  https://www.victoriassecret.com/lingerie/shop-...  Victoria's Secret   \n",
       "453378  https://www.victoriassecret.com/lingerie/shop-...  Victoria's Secret   \n",
       "453379  https://www.victoriassecret.com/lingerie/shop-...  Victoria's Secret   \n",
       "453380  https://www.victoriassecret.com/lingerie/shop-...  Victoria's Secret   \n",
       "453381  https://www.victoriassecret.com/lingerie/shop-...  Victoria's Secret   \n",
       "453382  https://www.victoriassecret.com/lingerie/shop-...  Victoria's Secret   \n",
       "453383  https://www.victoriassecret.com/lingerie/shop-...  Victoria's Secret   \n",
       "453384  https://www.victoriassecret.com/lingerie/shop-...  Victoria's Secret   \n",
       "453385  https://www.victoriassecret.com/lingerie/shop-...  Victoria's Secret   \n",
       "\n",
       "       product_category            retailer  \\\n",
       "453376   Lace Mini Slip  Victoriassecret US   \n",
       "453377   Lace Mini Slip  Victoriassecret US   \n",
       "453378   Lace Mini Slip  Victoriassecret US   \n",
       "453379   Lace Mini Slip  Victoriassecret US   \n",
       "453380   Lace Mini Slip  Victoriassecret US   \n",
       "453381   Lace Mini Slip  Victoriassecret US   \n",
       "453382   Lace Mini Slip  Victoriassecret US   \n",
       "453383   Lace Mini Slip  Victoriassecret US   \n",
       "453384   Lace Mini Slip  Victoriassecret US   \n",
       "453385   Lace Mini Slip  Victoriassecret US   \n",
       "\n",
       "                                              description  rating  \\\n",
       "453376  All you need is a little lace, here in the cut...     NaN   \n",
       "453377  All you need is a little lace, here in the cut...     NaN   \n",
       "453378  All you need is a little lace, here in the cut...     NaN   \n",
       "453379  All you need is a little lace, here in the cut...     NaN   \n",
       "453380  All you need is a little lace, here in the cut...     NaN   \n",
       "453381  All you need is a little lace, here in the cut...     NaN   \n",
       "453382  All you need is a little lace, here in the cut...     NaN   \n",
       "453383  All you need is a little lace, here in the cut...     NaN   \n",
       "453384  All you need is a little lace, here in the cut...     NaN   \n",
       "453385  All you need is a little lace, here in the cut...     NaN   \n",
       "\n",
       "        review_count  style_attributes                  total_sizes  \\\n",
       "453376           NaN               NaN  [\"XS\", \"S\", \"M\", \"L\", \"XL\"]   \n",
       "453377           NaN               NaN  [\"XS\", \"S\", \"M\", \"L\", \"XL\"]   \n",
       "453378           NaN               NaN  [\"XS\", \"S\", \"M\", \"L\", \"XL\"]   \n",
       "453379           NaN               NaN  [\"XS\", \"S\", \"M\", \"L\", \"XL\"]   \n",
       "453380           NaN               NaN  [\"XS\", \"S\", \"M\", \"L\", \"XL\"]   \n",
       "453381           NaN               NaN  [\"XS\", \"S\", \"M\", \"L\", \"XL\"]   \n",
       "453382           NaN               NaN  [\"XS\", \"S\", \"M\", \"L\", \"XL\"]   \n",
       "453383           NaN               NaN  [\"XS\", \"S\", \"M\", \"L\", \"XL\"]   \n",
       "453384           NaN               NaN  [\"XS\", \"S\", \"M\", \"L\", \"XL\"]   \n",
       "453385           NaN               NaN  [\"XS\", \"S\", \"M\", \"L\", \"XL\"]   \n",
       "\n",
       "       available_size          color  \n",
       "453376             XL   mulled grape  \n",
       "453377             XS     sheer pink  \n",
       "453378             XS  coconut white  \n",
       "453379             XS   mulled grape  \n",
       "453380              L     sheer pink  \n",
       "453381              L  coconut white  \n",
       "453382              L   mulled grape  \n",
       "453383              M     sheer pink  \n",
       "453384              M  coconut white  \n",
       "453385              M   mulled grape  "
      ]
     },
     "execution_count": 148,
     "metadata": {},
     "output_type": "execute_result"
    }
   ],
   "source": [
    "df.tail(10) "
   ]
  },
  {
   "cell_type": "markdown",
   "metadata": {
    "hidden": true
   },
   "source": [
    "We can see that the currency is indicated at the beginning of each value. \n",
    "\n",
    "In order to explore all the distinct currencies in our dataFrame, we pick up every distinct character at index 0 and count them."
   ]
  },
  {
   "cell_type": "code",
   "execution_count": 151,
   "metadata": {
    "hidden": true
   },
   "outputs": [
    {
     "data": {
      "text/plain": [
       "price\n",
       "$    452880\n",
       "R       350\n",
       "₡       156\n",
       "Name: count, dtype: int64"
      ]
     },
     "execution_count": 151,
     "metadata": {},
     "output_type": "execute_result"
    }
   ],
   "source": [
    "df['price'].apply(lambda x: x[0]).value_counts() # check other strings "
   ]
  },
  {
   "cell_type": "markdown",
   "metadata": {
    "hidden": true
   },
   "source": [
    "---\n",
    "Now create a function \"clean_price\" which takes one argument to be this first element. \n",
    "\n",
    "Then if this element is dollar, extract the rest of the element without the dollar. \n",
    "And if not, do a similar extraction and an additional currency conversion. "
   ]
  },
  {
   "cell_type": "code",
   "execution_count": 152,
   "metadata": {
    "hidden": true,
    "scrolled": true
   },
   "outputs": [
    {
     "data": {
      "text/html": [
       "<div>\n",
       "<style scoped>\n",
       "    .dataframe tbody tr th:only-of-type {\n",
       "        vertical-align: middle;\n",
       "    }\n",
       "\n",
       "    .dataframe tbody tr th {\n",
       "        vertical-align: top;\n",
       "    }\n",
       "\n",
       "    .dataframe thead th {\n",
       "        text-align: right;\n",
       "    }\n",
       "</style>\n",
       "<table border=\"1\" class=\"dataframe\">\n",
       "  <thead>\n",
       "    <tr style=\"text-align: right;\">\n",
       "      <th></th>\n",
       "      <th>product_name</th>\n",
       "      <th>mrp</th>\n",
       "      <th>price</th>\n",
       "      <th>pdp_url</th>\n",
       "      <th>brand_name</th>\n",
       "      <th>product_category</th>\n",
       "      <th>retailer</th>\n",
       "      <th>description</th>\n",
       "      <th>rating</th>\n",
       "      <th>review_count</th>\n",
       "      <th>style_attributes</th>\n",
       "      <th>total_sizes</th>\n",
       "      <th>available_size</th>\n",
       "      <th>color</th>\n",
       "    </tr>\n",
       "  </thead>\n",
       "  <tbody>\n",
       "    <tr>\n",
       "      <th>222596</th>\n",
       "      <td>Dream Angels Demi Bra</td>\n",
       "      <td>Rp721.448</td>\n",
       "      <td>Rp412.118</td>\n",
       "      <td>https://www.victoriassecret.com/bras/shop-all-...</td>\n",
       "      <td>Victoria's Secret</td>\n",
       "      <td>Demi Bra</td>\n",
       "      <td>Victoriassecret US</td>\n",
       "      <td>This dreamy demi is even more heavenly, with s...</td>\n",
       "      <td>NaN</td>\n",
       "      <td>NaN</td>\n",
       "      <td>NaN</td>\n",
       "      <td>[\"32A\", \"32B\", \"32C\", \"32D\", \"32DD\", \"32DDD\", ...</td>\n",
       "      <td>34A</td>\n",
       "      <td>white</td>\n",
       "    </tr>\n",
       "    <tr>\n",
       "      <th>222597</th>\n",
       "      <td>Dream Angels Demi Bra</td>\n",
       "      <td>Rp721.448</td>\n",
       "      <td>Rp412.118</td>\n",
       "      <td>https://www.victoriassecret.com/bras/shop-all-...</td>\n",
       "      <td>Victoria's Secret</td>\n",
       "      <td>Demi Bra</td>\n",
       "      <td>Victoriassecret US</td>\n",
       "      <td>This dreamy demi is even more heavenly, with s...</td>\n",
       "      <td>NaN</td>\n",
       "      <td>NaN</td>\n",
       "      <td>NaN</td>\n",
       "      <td>[\"32A\", \"32B\", \"32C\", \"32D\", \"32DD\", \"32DDD\", ...</td>\n",
       "      <td>34A</td>\n",
       "      <td>nude</td>\n",
       "    </tr>\n",
       "    <tr>\n",
       "      <th>222598</th>\n",
       "      <td>Dream Angels Demi Bra</td>\n",
       "      <td>Rp721.448</td>\n",
       "      <td>Rp412.118</td>\n",
       "      <td>https://www.victoriassecret.com/bras/shop-all-...</td>\n",
       "      <td>Victoria's Secret</td>\n",
       "      <td>Demi Bra</td>\n",
       "      <td>Victoriassecret US</td>\n",
       "      <td>This dreamy demi is even more heavenly, with s...</td>\n",
       "      <td>NaN</td>\n",
       "      <td>NaN</td>\n",
       "      <td>NaN</td>\n",
       "      <td>[\"32A\", \"32B\", \"32C\", \"32D\", \"32DD\", \"32DDD\", ...</td>\n",
       "      <td>36C</td>\n",
       "      <td>white</td>\n",
       "    </tr>\n",
       "    <tr>\n",
       "      <th>222599</th>\n",
       "      <td>Dream Angels Demi Bra</td>\n",
       "      <td>Rp721.448</td>\n",
       "      <td>Rp412.118</td>\n",
       "      <td>https://www.victoriassecret.com/bras/shop-all-...</td>\n",
       "      <td>Victoria's Secret</td>\n",
       "      <td>Demi Bra</td>\n",
       "      <td>Victoriassecret US</td>\n",
       "      <td>This dreamy demi is even more heavenly, with s...</td>\n",
       "      <td>NaN</td>\n",
       "      <td>NaN</td>\n",
       "      <td>NaN</td>\n",
       "      <td>[\"32A\", \"32B\", \"32C\", \"32D\", \"32DD\", \"32DDD\", ...</td>\n",
       "      <td>36C</td>\n",
       "      <td>nude</td>\n",
       "    </tr>\n",
       "    <tr>\n",
       "      <th>222600</th>\n",
       "      <td>Dream Angels Demi Bra</td>\n",
       "      <td>Rp721.448</td>\n",
       "      <td>Rp412.118</td>\n",
       "      <td>https://www.victoriassecret.com/bras/shop-all-...</td>\n",
       "      <td>Victoria's Secret</td>\n",
       "      <td>Demi Bra</td>\n",
       "      <td>Victoriassecret US</td>\n",
       "      <td>This dreamy demi is even more heavenly, with s...</td>\n",
       "      <td>NaN</td>\n",
       "      <td>NaN</td>\n",
       "      <td>NaN</td>\n",
       "      <td>[\"32A\", \"32B\", \"32C\", \"32D\", \"32DD\", \"32DDD\", ...</td>\n",
       "      <td>34B</td>\n",
       "      <td>white</td>\n",
       "    </tr>\n",
       "    <tr>\n",
       "      <th>...</th>\n",
       "      <td>...</td>\n",
       "      <td>...</td>\n",
       "      <td>...</td>\n",
       "      <td>...</td>\n",
       "      <td>...</td>\n",
       "      <td>...</td>\n",
       "      <td>...</td>\n",
       "      <td>...</td>\n",
       "      <td>...</td>\n",
       "      <td>...</td>\n",
       "      <td>...</td>\n",
       "      <td>...</td>\n",
       "      <td>...</td>\n",
       "      <td>...</td>\n",
       "    </tr>\n",
       "    <tr>\n",
       "      <th>403100</th>\n",
       "      <td>PINK NEW! Lace Lightly Lined Halter Bralette</td>\n",
       "      <td>Rp474.522</td>\n",
       "      <td>Rp343.857</td>\n",
       "      <td>https://www.victoriassecret.com/pink/all-bras/...</td>\n",
       "      <td>Victoria's Secret Pink</td>\n",
       "      <td>Lace Lightly Lined Halter Bralette</td>\n",
       "      <td>Victoriassecret US</td>\n",
       "      <td>Made for layering and lounging, this halter br...</td>\n",
       "      <td>4.4</td>\n",
       "      <td>74.0</td>\n",
       "      <td>NaN</td>\n",
       "      <td>[\"XS\", \"S\", \"M\", \"L\"]</td>\n",
       "      <td>M</td>\n",
       "      <td>warm geo print</td>\n",
       "    </tr>\n",
       "    <tr>\n",
       "      <th>403101</th>\n",
       "      <td>PINK NEW! Lace Lightly Lined Halter Bralette</td>\n",
       "      <td>Rp474.522</td>\n",
       "      <td>Rp343.857</td>\n",
       "      <td>https://www.victoriassecret.com/pink/all-bras/...</td>\n",
       "      <td>Victoria's Secret Pink</td>\n",
       "      <td>Lace Lightly Lined Halter Bralette</td>\n",
       "      <td>Victoriassecret US</td>\n",
       "      <td>Made for layering and lounging, this halter br...</td>\n",
       "      <td>4.4</td>\n",
       "      <td>74.0</td>\n",
       "      <td>NaN</td>\n",
       "      <td>[\"XS\", \"S\", \"M\", \"L\"]</td>\n",
       "      <td>M</td>\n",
       "      <td>cocoon</td>\n",
       "    </tr>\n",
       "    <tr>\n",
       "      <th>403102</th>\n",
       "      <td>PINK NEW! Lace Lightly Lined Halter Bralette</td>\n",
       "      <td>Rp474.522</td>\n",
       "      <td>Rp343.857</td>\n",
       "      <td>https://www.victoriassecret.com/pink/all-bras/...</td>\n",
       "      <td>Victoria's Secret Pink</td>\n",
       "      <td>Lace Lightly Lined Halter Bralette</td>\n",
       "      <td>Victoriassecret US</td>\n",
       "      <td>Made for layering and lounging, this halter br...</td>\n",
       "      <td>4.4</td>\n",
       "      <td>74.0</td>\n",
       "      <td>NaN</td>\n",
       "      <td>[\"XS\", \"S\", \"M\", \"L\"]</td>\n",
       "      <td>M</td>\n",
       "      <td>midnight tropical</td>\n",
       "    </tr>\n",
       "    <tr>\n",
       "      <th>403103</th>\n",
       "      <td>PINK NEW! Lace Lightly Lined Halter Bralette</td>\n",
       "      <td>Rp474.522</td>\n",
       "      <td>Rp343.857</td>\n",
       "      <td>https://www.victoriassecret.com/pink/all-bras/...</td>\n",
       "      <td>Victoria's Secret Pink</td>\n",
       "      <td>Lace Lightly Lined Halter Bralette</td>\n",
       "      <td>Victoriassecret US</td>\n",
       "      <td>Made for layering and lounging, this halter br...</td>\n",
       "      <td>4.4</td>\n",
       "      <td>74.0</td>\n",
       "      <td>NaN</td>\n",
       "      <td>[\"XS\", \"S\", \"M\", \"L\"]</td>\n",
       "      <td>M</td>\n",
       "      <td>cool geo print</td>\n",
       "    </tr>\n",
       "    <tr>\n",
       "      <th>403104</th>\n",
       "      <td>PINK NEW! Lace Lightly Lined Halter Bralette</td>\n",
       "      <td>Rp474.522</td>\n",
       "      <td>Rp343.857</td>\n",
       "      <td>https://www.victoriassecret.com/pink/all-bras/...</td>\n",
       "      <td>Victoria's Secret Pink</td>\n",
       "      <td>Lace Lightly Lined Halter Bralette</td>\n",
       "      <td>Victoriassecret US</td>\n",
       "      <td>Made for layering and lounging, this halter br...</td>\n",
       "      <td>4.4</td>\n",
       "      <td>74.0</td>\n",
       "      <td>NaN</td>\n",
       "      <td>[\"XS\", \"S\", \"M\", \"L\"]</td>\n",
       "      <td>M</td>\n",
       "      <td>moonray</td>\n",
       "    </tr>\n",
       "  </tbody>\n",
       "</table>\n",
       "<p>350 rows × 14 columns</p>\n",
       "</div>"
      ],
      "text/plain": [
       "                                        product_name        mrp      price  \\\n",
       "222596                         Dream Angels Demi Bra  Rp721.448  Rp412.118   \n",
       "222597                         Dream Angels Demi Bra  Rp721.448  Rp412.118   \n",
       "222598                         Dream Angels Demi Bra  Rp721.448  Rp412.118   \n",
       "222599                         Dream Angels Demi Bra  Rp721.448  Rp412.118   \n",
       "222600                         Dream Angels Demi Bra  Rp721.448  Rp412.118   \n",
       "...                                              ...        ...        ...   \n",
       "403100  PINK NEW! Lace Lightly Lined Halter Bralette  Rp474.522  Rp343.857   \n",
       "403101  PINK NEW! Lace Lightly Lined Halter Bralette  Rp474.522  Rp343.857   \n",
       "403102  PINK NEW! Lace Lightly Lined Halter Bralette  Rp474.522  Rp343.857   \n",
       "403103  PINK NEW! Lace Lightly Lined Halter Bralette  Rp474.522  Rp343.857   \n",
       "403104  PINK NEW! Lace Lightly Lined Halter Bralette  Rp474.522  Rp343.857   \n",
       "\n",
       "                                                  pdp_url  \\\n",
       "222596  https://www.victoriassecret.com/bras/shop-all-...   \n",
       "222597  https://www.victoriassecret.com/bras/shop-all-...   \n",
       "222598  https://www.victoriassecret.com/bras/shop-all-...   \n",
       "222599  https://www.victoriassecret.com/bras/shop-all-...   \n",
       "222600  https://www.victoriassecret.com/bras/shop-all-...   \n",
       "...                                                   ...   \n",
       "403100  https://www.victoriassecret.com/pink/all-bras/...   \n",
       "403101  https://www.victoriassecret.com/pink/all-bras/...   \n",
       "403102  https://www.victoriassecret.com/pink/all-bras/...   \n",
       "403103  https://www.victoriassecret.com/pink/all-bras/...   \n",
       "403104  https://www.victoriassecret.com/pink/all-bras/...   \n",
       "\n",
       "                    brand_name                    product_category  \\\n",
       "222596       Victoria's Secret                            Demi Bra   \n",
       "222597       Victoria's Secret                            Demi Bra   \n",
       "222598       Victoria's Secret                            Demi Bra   \n",
       "222599       Victoria's Secret                            Demi Bra   \n",
       "222600       Victoria's Secret                            Demi Bra   \n",
       "...                        ...                                 ...   \n",
       "403100  Victoria's Secret Pink  Lace Lightly Lined Halter Bralette   \n",
       "403101  Victoria's Secret Pink  Lace Lightly Lined Halter Bralette   \n",
       "403102  Victoria's Secret Pink  Lace Lightly Lined Halter Bralette   \n",
       "403103  Victoria's Secret Pink  Lace Lightly Lined Halter Bralette   \n",
       "403104  Victoria's Secret Pink  Lace Lightly Lined Halter Bralette   \n",
       "\n",
       "                  retailer                                        description  \\\n",
       "222596  Victoriassecret US  This dreamy demi is even more heavenly, with s...   \n",
       "222597  Victoriassecret US  This dreamy demi is even more heavenly, with s...   \n",
       "222598  Victoriassecret US  This dreamy demi is even more heavenly, with s...   \n",
       "222599  Victoriassecret US  This dreamy demi is even more heavenly, with s...   \n",
       "222600  Victoriassecret US  This dreamy demi is even more heavenly, with s...   \n",
       "...                    ...                                                ...   \n",
       "403100  Victoriassecret US  Made for layering and lounging, this halter br...   \n",
       "403101  Victoriassecret US  Made for layering and lounging, this halter br...   \n",
       "403102  Victoriassecret US  Made for layering and lounging, this halter br...   \n",
       "403103  Victoriassecret US  Made for layering and lounging, this halter br...   \n",
       "403104  Victoriassecret US  Made for layering and lounging, this halter br...   \n",
       "\n",
       "        rating  review_count  style_attributes  \\\n",
       "222596     NaN           NaN               NaN   \n",
       "222597     NaN           NaN               NaN   \n",
       "222598     NaN           NaN               NaN   \n",
       "222599     NaN           NaN               NaN   \n",
       "222600     NaN           NaN               NaN   \n",
       "...        ...           ...               ...   \n",
       "403100     4.4          74.0               NaN   \n",
       "403101     4.4          74.0               NaN   \n",
       "403102     4.4          74.0               NaN   \n",
       "403103     4.4          74.0               NaN   \n",
       "403104     4.4          74.0               NaN   \n",
       "\n",
       "                                              total_sizes available_size  \\\n",
       "222596  [\"32A\", \"32B\", \"32C\", \"32D\", \"32DD\", \"32DDD\", ...            34A   \n",
       "222597  [\"32A\", \"32B\", \"32C\", \"32D\", \"32DD\", \"32DDD\", ...            34A   \n",
       "222598  [\"32A\", \"32B\", \"32C\", \"32D\", \"32DD\", \"32DDD\", ...            36C   \n",
       "222599  [\"32A\", \"32B\", \"32C\", \"32D\", \"32DD\", \"32DDD\", ...            36C   \n",
       "222600  [\"32A\", \"32B\", \"32C\", \"32D\", \"32DD\", \"32DDD\", ...            34B   \n",
       "...                                                   ...            ...   \n",
       "403100                              [\"XS\", \"S\", \"M\", \"L\"]              M   \n",
       "403101                              [\"XS\", \"S\", \"M\", \"L\"]              M   \n",
       "403102                              [\"XS\", \"S\", \"M\", \"L\"]              M   \n",
       "403103                              [\"XS\", \"S\", \"M\", \"L\"]              M   \n",
       "403104                              [\"XS\", \"S\", \"M\", \"L\"]              M   \n",
       "\n",
       "                    color  \n",
       "222596              white  \n",
       "222597               nude  \n",
       "222598              white  \n",
       "222599               nude  \n",
       "222600              white  \n",
       "...                   ...  \n",
       "403100     warm geo print  \n",
       "403101             cocoon  \n",
       "403102  midnight tropical  \n",
       "403103     cool geo print  \n",
       "403104            moonray  \n",
       "\n",
       "[350 rows x 14 columns]"
      ]
     },
     "execution_count": 152,
     "metadata": {},
     "output_type": "execute_result"
    }
   ],
   "source": [
    "df[df['price'].str.contains('R')] # contains Rp instead of R"
   ]
  },
  {
   "cell_type": "code",
   "execution_count": 153,
   "metadata": {},
   "outputs": [],
   "source": [
    "def clean_price(x):\n",
    "    if x[0]=='$':\n",
    "        return float(x[1:])\n",
    "    elif x[0]=='R':\n",
    "        return float(x[2:])\n",
    "    elif x[0]=='₡':\n",
    "        return float(x[1:])\n",
    "    else:\n",
    "        return x"
   ]
  },
  {
   "cell_type": "markdown",
   "metadata": {
    "hidden": true
   },
   "source": [
    "Apply this function to 'mrp' and 'price' columns, using apply. \n",
    "\n",
    "Here the **apply method** is only valid for a specific column of a dataset. \n",
    "Use **applymap** if you need to apply a function to 2 or more columns."
   ]
  },
  {
   "cell_type": "code",
   "execution_count": 154,
   "metadata": {},
   "outputs": [
    {
     "data": {
      "text/plain": [
       "0         14.5\n",
       "1         14.5\n",
       "2         14.5\n",
       "3         14.5\n",
       "4         14.5\n",
       "          ... \n",
       "453381    48.0\n",
       "453382    48.0\n",
       "453383    48.0\n",
       "453384    48.0\n",
       "453385    48.0\n",
       "Name: price, Length: 453386, dtype: float64"
      ]
     },
     "execution_count": 154,
     "metadata": {},
     "output_type": "execute_result"
    }
   ],
   "source": [
    "df['price'].apply(clean_price)"
   ]
  },
  {
   "cell_type": "code",
   "execution_count": 155,
   "metadata": {},
   "outputs": [
    {
     "data": {
      "text/plain": [
       "price    float64\n",
       "mrp       object\n",
       "dtype: object"
      ]
     },
     "execution_count": 155,
     "metadata": {},
     "output_type": "execute_result"
    }
   ],
   "source": [
    "df[['price', 'mrp']].applymap(clean_price).dtypes"
   ]
  },
  {
   "cell_type": "code",
   "execution_count": 156,
   "metadata": {},
   "outputs": [],
   "source": [
    "df[['price', 'mrp']]=df[['price', 'mrp']].applymap(clean_price)"
   ]
  },
  {
   "cell_type": "markdown",
   "metadata": {
    "hidden": true
   },
   "source": [
    "----"
   ]
  },
  {
   "cell_type": "markdown",
   "metadata": {
    "heading_collapsed": true,
    "hidden": true
   },
   "source": [
    "#### Step 2:\n",
    "\n",
    "Fill missing values by columns' medians"
   ]
  },
  {
   "cell_type": "code",
   "execution_count": 157,
   "metadata": {
    "hidden": true,
    "scrolled": true
   },
   "outputs": [
    {
     "data": {
      "text/plain": [
       "(product_name             0\n",
       " mrp                      0\n",
       " price                    0\n",
       " pdp_url                  0\n",
       " brand_name               0\n",
       " product_category         0\n",
       " retailer                 0\n",
       " description              0\n",
       " rating              315652\n",
       " review_count        315652\n",
       " style_attributes    453386\n",
       " total_sizes              0\n",
       " available_size           0\n",
       " color                    0\n",
       " dtype: int64,\n",
       " (453386, 14))"
      ]
     },
     "execution_count": 157,
     "metadata": {},
     "output_type": "execute_result"
    }
   ],
   "source": [
    "df.isna().sum(), df.shape # we find no value in style_attributes "
   ]
  },
  {
   "cell_type": "code",
   "execution_count": 158,
   "metadata": {},
   "outputs": [],
   "source": [
    "df.drop(columns = 'style_attributes', inplace=True)"
   ]
  },
  {
   "cell_type": "markdown",
   "metadata": {
    "hidden": true
   },
   "source": [
    "Apply the **median() method** to df considering the 'mrp', 'price', 'rating', 'review_count' and 'style_attributes' columns.\n",
    "\n",
    "And put the output into a variable called medians."
   ]
  },
  {
   "cell_type": "code",
   "execution_count": 159,
   "metadata": {
    "hidden": true
   },
   "outputs": [
    {
     "data": {
      "text/plain": [
       "rating            4.3\n",
       "review_count    147.0\n",
       "dtype: float64"
      ]
     },
     "execution_count": 159,
     "metadata": {},
     "output_type": "execute_result"
    }
   ],
   "source": [
    "medians = df[['rating', 'review_count']].median()\n",
    "medians"
   ]
  },
  {
   "cell_type": "markdown",
   "metadata": {
    "hidden": true
   },
   "source": [
    "----\n",
    "\n",
    "Apply the `fillna()` [method](https://pandas.pydata.org/pandas-docs/stable/reference/api/pandas.DataFrame.fillna.html) to the 'mrp', 'price', 'rating' and 'review_count' columns in df, replacing nan values by medians.\n",
    "\n",
    "Then apply again describe to this."
   ]
  },
  {
   "cell_type": "code",
   "execution_count": 162,
   "metadata": {
    "hidden": true
   },
   "outputs": [
    {
     "name": "stderr",
     "output_type": "stream",
     "text": [
      "/var/folders/z0/4rcm9x5d39zdvklmt4flc2s40000gn/T/ipykernel_30144/4269913648.py:1: SettingWithCopyWarning: \n",
      "A value is trying to be set on a copy of a slice from a DataFrame\n",
      "\n",
      "See the caveats in the documentation: https://pandas.pydata.org/pandas-docs/stable/user_guide/indexing.html#returning-a-view-versus-a-copy\n",
      "  df[['rating', 'review_count']].fillna(medians, inplace= True)\n"
     ]
    }
   ],
   "source": [
    "df[['rating', 'review_count']].fillna(medians, inplace= True)"
   ]
  },
  {
   "cell_type": "code",
   "execution_count": 164,
   "metadata": {
    "hidden": true
   },
   "outputs": [
    {
     "data": {
      "text/html": [
       "<div>\n",
       "<style scoped>\n",
       "    .dataframe tbody tr th:only-of-type {\n",
       "        vertical-align: middle;\n",
       "    }\n",
       "\n",
       "    .dataframe tbody tr th {\n",
       "        vertical-align: top;\n",
       "    }\n",
       "\n",
       "    .dataframe thead th {\n",
       "        text-align: right;\n",
       "    }\n",
       "</style>\n",
       "<table border=\"1\" class=\"dataframe\">\n",
       "  <thead>\n",
       "    <tr style=\"text-align: right;\">\n",
       "      <th></th>\n",
       "      <th>rating</th>\n",
       "      <th>review_count</th>\n",
       "    </tr>\n",
       "  </thead>\n",
       "  <tbody>\n",
       "    <tr>\n",
       "      <th>count</th>\n",
       "      <td>137734.000000</td>\n",
       "      <td>1.377340e+05</td>\n",
       "    </tr>\n",
       "    <tr>\n",
       "      <th>mean</th>\n",
       "      <td>4.165819</td>\n",
       "      <td>9.202884e+35</td>\n",
       "    </tr>\n",
       "    <tr>\n",
       "      <th>std</th>\n",
       "      <td>0.487524</td>\n",
       "      <td>1.162929e+37</td>\n",
       "    </tr>\n",
       "    <tr>\n",
       "      <th>min</th>\n",
       "      <td>0.000000</td>\n",
       "      <td>2.000000e+00</td>\n",
       "    </tr>\n",
       "    <tr>\n",
       "      <th>25%</th>\n",
       "      <td>4.000000</td>\n",
       "      <td>3.900000e+01</td>\n",
       "    </tr>\n",
       "    <tr>\n",
       "      <th>50%</th>\n",
       "      <td>4.300000</td>\n",
       "      <td>1.470000e+02</td>\n",
       "    </tr>\n",
       "    <tr>\n",
       "      <th>75%</th>\n",
       "      <td>4.500000</td>\n",
       "      <td>4.100000e+02</td>\n",
       "    </tr>\n",
       "    <tr>\n",
       "      <th>max</th>\n",
       "      <td>5.000000</td>\n",
       "      <td>1.560000e+38</td>\n",
       "    </tr>\n",
       "  </tbody>\n",
       "</table>\n",
       "</div>"
      ],
      "text/plain": [
       "              rating  review_count\n",
       "count  137734.000000  1.377340e+05\n",
       "mean        4.165819  9.202884e+35\n",
       "std         0.487524  1.162929e+37\n",
       "min         0.000000  2.000000e+00\n",
       "25%         4.000000  3.900000e+01\n",
       "50%         4.300000  1.470000e+02\n",
       "75%         4.500000  4.100000e+02\n",
       "max         5.000000  1.560000e+38"
      ]
     },
     "execution_count": 164,
     "metadata": {},
     "output_type": "execute_result"
    }
   ],
   "source": [
    "df[['rating', 'review_count']].describe()"
   ]
  },
  {
   "cell_type": "markdown",
   "metadata": {
    "hidden": true
   },
   "source": [
    "For further use, make a preprocess function"
   ]
  },
  {
   "cell_type": "code",
   "execution_count": 57,
   "metadata": {
    "hidden": true
   },
   "outputs": [],
   "source": [
    "def preprocess_df(df, clean_fn, price_cols, clos_to_drop, num_cols):\n",
    "# this is a function to preprocess the victoriassecret_com.csv dataset:\n",
    "# - convert mpr and price cols into numerics\n",
    "# - fill missing values with medians \n",
    "    for col_name in price_cols:\n",
    "        df[col_name]=df[col_name].apply(clean_fn)\n",
    "    medians = df[num_cols].median()\n",
    "    df.fillna(value = medians, inplace = True)\n",
    "    df.drop(columns = cols_to_drop, inplace = True)"
   ]
  },
  {
   "cell_type": "code",
   "execution_count": 58,
   "metadata": {},
   "outputs": [],
   "source": [
    "df = pd.read_csv('/Users/zhusijie/Desktop/Data Science/Data/victoriassecret_com.csv')\n",
    "price_cols = ['price','mrp']\n",
    "cols_to_drop = 'style_attributes'\n",
    "num_cols = ['price', 'mrp','review_count','rating']\n",
    "preprocess_df(df, clean_price, price_cols, cols_to_drop, num_cols)"
   ]
  },
  {
   "cell_type": "code",
   "execution_count": 61,
   "metadata": {},
   "outputs": [
    {
     "data": {
      "text/plain": [
       "(product_name         object\n",
       " mrp                 float64\n",
       " price               float64\n",
       " pdp_url              object\n",
       " brand_name           object\n",
       " product_category     object\n",
       " retailer             object\n",
       " description          object\n",
       " rating              float64\n",
       " review_count        float64\n",
       " total_sizes          object\n",
       " available_size       object\n",
       " color                object\n",
       " dtype: object,\n",
       "                  mrp          price         rating  review_count\n",
       " count  453386.000000  453386.000000  453386.000000  4.533860e+05\n",
       " mean       36.357921      32.624471       4.259237  2.795741e+35\n",
       " std        19.662907      19.211452       0.275703  6.423671e+36\n",
       " min         8.500000       2.990000       0.000000  2.000000e+00\n",
       " 25%        29.500000      19.990000       4.300000  1.470000e+02\n",
       " 50%        36.000000      34.500000       4.300000  1.470000e+02\n",
       " 75%        46.500000      42.500000       4.300000  1.470000e+02\n",
       " max       721.448000     543.294000       5.000000  1.560000e+38)"
      ]
     },
     "execution_count": 61,
     "metadata": {},
     "output_type": "execute_result"
    }
   ],
   "source": [
    "df.dtypes, df.describe()"
   ]
  },
  {
   "cell_type": "markdown",
   "metadata": {
    "heading_collapsed": true
   },
   "source": [
    "### III. Data lookup\n",
    "\n"
   ]
  },
  {
   "cell_type": "markdown",
   "metadata": {
    "hidden": true
   },
   "source": [
    "Let's explore our data a bit further..."
   ]
  },
  {
   "cell_type": "markdown",
   "metadata": {
    "heading_collapsed": true,
    "hidden": true
   },
   "source": [
    "#### Question 1\n",
    "\n",
    "Which product are the most expensive? what are the indices of the correponding raws and correponding products?"
   ]
  },
  {
   "cell_type": "code",
   "execution_count": 3,
   "metadata": {},
   "outputs": [],
   "source": [
    "# Add convertions \n",
    "# Conversion rates\n",
    "conv1 = 0.000061 # Rp --> $\n",
    "conv2 = 0.0018 # ₡ --> $\n",
    "\n",
    "def clean_price(s):\n",
    "    \"\"\"\n",
    "    Convert an amount in dollars into a float by removing the currency sign \n",
    "    at the start the chain.\n",
    "    \"\"\"\n",
    "    s0 = s[0]\n",
    "    if s0 == '$':\n",
    "        return float(s[1:])\n",
    "    elif s0 == 'R': \n",
    "        return float(s[2:])*conv1 # because the currency is 'Rp'\n",
    "    elif s0 == '₡':\n",
    "        return float(s[1:])*conv2\n",
    "\n",
    "\n",
    "\n",
    "def preprocess_df(df, clean_fn, price_cols, cols_to_drop, num_cols):\n",
    "    \"\"\"\n",
    "    This function preprocesses the victoriassecret_com.csv dataset:\n",
    "        - converts mpr and price cols into numerics\n",
    "        - fills missing (numeric) values by medians\n",
    "        - drop cols which would have too many missing values (style_attributes)\n",
    "\n",
    "    Parameters:\n",
    "        - df : DataFrame : the dataframe we want to preprocess\n",
    "        - clean_fn : python method : the method cleaning the prices values\n",
    "        - price_cols : list of column names : names of the columns containing prices\n",
    "        - cols_to_drop : list of column names : names of the columns to remove from the DataFrame\n",
    "        - nums_cols : list of column names : names of the columns containing numerical values\n",
    "    \"\"\"\n",
    "    # Iterate on price cols\n",
    "    for col_name in price_cols:\n",
    "        df[col_name] = df[col_name].apply(clean_fn)\n",
    "    medians = df[num_cols].median()\n",
    "    df.fillna(value=medians, inplace=True)\n",
    "    df.drop(columns=cols_to_drop, inplace=True)    \n",
    "\n",
    "\n",
    "\n",
    "\n",
    "# Read the CSV file and create a new DataFrame\n",
    "df = pd.read_csv('/Users/zhusijie/Desktop/Data Science/Data/victoriassecret_com.csv')\n",
    "\n",
    "# Columns containing prices\n",
    "price_cols = ['price','mrp']\n",
    "\n",
    "# Columns to remove from the DataFrame\n",
    "cols_to_drop = 'style_attributes'\n",
    "\n",
    "# Columns containing numerical values after cleaning the prices\n",
    "num_cols = ['price','mrp','review_count','rating']\n",
    "\n",
    "# Process the newly created DataFrame\n",
    "preprocess_df(df,clean_price,price_cols,cols_to_drop,num_cols)"
   ]
  },
  {
   "cell_type": "code",
   "execution_count": 4,
   "metadata": {
    "hidden": true
   },
   "outputs": [
    {
     "data": {
      "text/plain": [
       "product_name\n",
       "Very Sexy NEW! Keyhole Lace Teddy    121\n",
       "Very Sexy Fishnet Lace Kimono         16\n",
       "Very Sexy Fishnet Lace Dress           6\n",
       "Name: count, dtype: int64"
      ]
     },
     "execution_count": 4,
     "metadata": {},
     "output_type": "execute_result"
    }
   ],
   "source": [
    "max_price = df['price'].max()\n",
    "df.loc[df['price']==max_price]['product_name'].value_counts()"
   ]
  },
  {
   "cell_type": "code",
   "execution_count": 5,
   "metadata": {
    "collapsed": true
   },
   "outputs": [
    {
     "data": {
      "text/html": [
       "<div>\n",
       "<style scoped>\n",
       "    .dataframe tbody tr th:only-of-type {\n",
       "        vertical-align: middle;\n",
       "    }\n",
       "\n",
       "    .dataframe tbody tr th {\n",
       "        vertical-align: top;\n",
       "    }\n",
       "\n",
       "    .dataframe thead th {\n",
       "        text-align: right;\n",
       "    }\n",
       "</style>\n",
       "<table border=\"1\" class=\"dataframe\">\n",
       "  <thead>\n",
       "    <tr style=\"text-align: right;\">\n",
       "      <th></th>\n",
       "      <th>mrp</th>\n",
       "      <th>price</th>\n",
       "      <th>rating</th>\n",
       "      <th>review_count</th>\n",
       "    </tr>\n",
       "    <tr>\n",
       "      <th>product_name</th>\n",
       "      <th></th>\n",
       "      <th></th>\n",
       "      <th></th>\n",
       "      <th></th>\n",
       "    </tr>\n",
       "  </thead>\n",
       "  <tbody>\n",
       "    <tr>\n",
       "      <th>Very Sexy NEW! Keyhole Lace Teddy</th>\n",
       "      <td>98.0</td>\n",
       "      <td>98.00</td>\n",
       "      <td>4.5</td>\n",
       "      <td>147.0</td>\n",
       "    </tr>\n",
       "    <tr>\n",
       "      <th>Very Sexy Fishnet Lace Dress</th>\n",
       "      <td>98.0</td>\n",
       "      <td>98.00</td>\n",
       "      <td>4.3</td>\n",
       "      <td>147.0</td>\n",
       "    </tr>\n",
       "    <tr>\n",
       "      <th>Very Sexy Fishnet Lace Kimono</th>\n",
       "      <td>98.0</td>\n",
       "      <td>98.00</td>\n",
       "      <td>4.3</td>\n",
       "      <td>147.0</td>\n",
       "    </tr>\n",
       "    <tr>\n",
       "      <th>Dream Angels NEW! Lace-up Bodysuit</th>\n",
       "      <td>78.0</td>\n",
       "      <td>78.00</td>\n",
       "      <td>4.3</td>\n",
       "      <td>147.0</td>\n",
       "    </tr>\n",
       "    <tr>\n",
       "      <th>Dream Angels NEW! Embroidered Lace Bustier</th>\n",
       "      <td>78.0</td>\n",
       "      <td>78.00</td>\n",
       "      <td>4.3</td>\n",
       "      <td>147.0</td>\n",
       "    </tr>\n",
       "    <tr>\n",
       "      <th>...</th>\n",
       "      <td>...</td>\n",
       "      <td>...</td>\n",
       "      <td>...</td>\n",
       "      <td>...</td>\n",
       "    </tr>\n",
       "    <tr>\n",
       "      <th>Cotton Lingerie Mesh String Bikini Panty</th>\n",
       "      <td>10.5</td>\n",
       "      <td>3.99</td>\n",
       "      <td>4.4</td>\n",
       "      <td>147.0</td>\n",
       "    </tr>\n",
       "    <tr>\n",
       "      <th>Cotton Lingerie Mesh Thong Panty</th>\n",
       "      <td>10.5</td>\n",
       "      <td>3.99</td>\n",
       "      <td>5.0</td>\n",
       "      <td>147.0</td>\n",
       "    </tr>\n",
       "    <tr>\n",
       "      <th>Cotton Lingerie Soft &amp; Smooth Cheeky Panty</th>\n",
       "      <td>10.5</td>\n",
       "      <td>3.99</td>\n",
       "      <td>4.3</td>\n",
       "      <td>147.0</td>\n",
       "    </tr>\n",
       "    <tr>\n",
       "      <th>Seamless Pineapple Hiphugger Panty</th>\n",
       "      <td>10.5</td>\n",
       "      <td>3.99</td>\n",
       "      <td>4.3</td>\n",
       "      <td>147.0</td>\n",
       "    </tr>\n",
       "    <tr>\n",
       "      <th>Cotton Lingerie Lace-back String Bikini Panty</th>\n",
       "      <td>10.5</td>\n",
       "      <td>3.99</td>\n",
       "      <td>4.3</td>\n",
       "      <td>147.0</td>\n",
       "    </tr>\n",
       "  </tbody>\n",
       "</table>\n",
       "<p>617 rows × 4 columns</p>\n",
       "</div>"
      ],
      "text/plain": [
       "                                                mrp  price  rating  \\\n",
       "product_name                                                         \n",
       "Very Sexy NEW! Keyhole Lace Teddy              98.0  98.00     4.5   \n",
       "Very Sexy Fishnet Lace Dress                   98.0  98.00     4.3   \n",
       "Very Sexy Fishnet Lace Kimono                  98.0  98.00     4.3   \n",
       "Dream Angels NEW! Lace-up Bodysuit             78.0  78.00     4.3   \n",
       "Dream Angels NEW! Embroidered Lace Bustier     78.0  78.00     4.3   \n",
       "...                                             ...    ...     ...   \n",
       "Cotton Lingerie Mesh String Bikini Panty       10.5   3.99     4.4   \n",
       "Cotton Lingerie Mesh Thong Panty               10.5   3.99     5.0   \n",
       "Cotton Lingerie Soft & Smooth Cheeky Panty     10.5   3.99     4.3   \n",
       "Seamless Pineapple Hiphugger Panty             10.5   3.99     4.3   \n",
       "Cotton Lingerie Lace-back String Bikini Panty  10.5   3.99     4.3   \n",
       "\n",
       "                                               review_count  \n",
       "product_name                                                 \n",
       "Very Sexy NEW! Keyhole Lace Teddy                     147.0  \n",
       "Very Sexy Fishnet Lace Dress                          147.0  \n",
       "Very Sexy Fishnet Lace Kimono                         147.0  \n",
       "Dream Angels NEW! Lace-up Bodysuit                    147.0  \n",
       "Dream Angels NEW! Embroidered Lace Bustier            147.0  \n",
       "...                                                     ...  \n",
       "Cotton Lingerie Mesh String Bikini Panty              147.0  \n",
       "Cotton Lingerie Mesh Thong Panty                      147.0  \n",
       "Cotton Lingerie Soft & Smooth Cheeky Panty            147.0  \n",
       "Seamless Pineapple Hiphugger Panty                    147.0  \n",
       "Cotton Lingerie Lace-back String Bikini Panty         147.0  \n",
       "\n",
       "[617 rows x 4 columns]"
      ]
     },
     "execution_count": 5,
     "metadata": {},
     "output_type": "execute_result"
    }
   ],
   "source": [
    "df.groupby('product_name').max('price').sort_values('price', ascending=False) # find max price for each product"
   ]
  },
  {
   "cell_type": "code",
   "execution_count": 6,
   "metadata": {
    "collapsed": true
   },
   "outputs": [
    {
     "data": {
      "text/html": [
       "<div>\n",
       "<style scoped>\n",
       "    .dataframe tbody tr th:only-of-type {\n",
       "        vertical-align: middle;\n",
       "    }\n",
       "\n",
       "    .dataframe tbody tr th {\n",
       "        vertical-align: top;\n",
       "    }\n",
       "\n",
       "    .dataframe thead th {\n",
       "        text-align: right;\n",
       "    }\n",
       "</style>\n",
       "<table border=\"1\" class=\"dataframe\">\n",
       "  <thead>\n",
       "    <tr style=\"text-align: right;\">\n",
       "      <th></th>\n",
       "      <th>product_name</th>\n",
       "      <th>mrp</th>\n",
       "      <th>price</th>\n",
       "      <th>pdp_url</th>\n",
       "      <th>brand_name</th>\n",
       "      <th>product_category</th>\n",
       "      <th>retailer</th>\n",
       "      <th>description</th>\n",
       "      <th>rating</th>\n",
       "      <th>review_count</th>\n",
       "      <th>total_sizes</th>\n",
       "      <th>available_size</th>\n",
       "    </tr>\n",
       "    <tr>\n",
       "      <th>color</th>\n",
       "      <th></th>\n",
       "      <th></th>\n",
       "      <th></th>\n",
       "      <th></th>\n",
       "      <th></th>\n",
       "      <th></th>\n",
       "      <th></th>\n",
       "      <th></th>\n",
       "      <th></th>\n",
       "      <th></th>\n",
       "      <th></th>\n",
       "      <th></th>\n",
       "    </tr>\n",
       "  </thead>\n",
       "  <tbody>\n",
       "    <tr>\n",
       "      <th>Baby pink</th>\n",
       "      <td>64</td>\n",
       "      <td>64</td>\n",
       "      <td>64</td>\n",
       "      <td>64</td>\n",
       "      <td>64</td>\n",
       "      <td>64</td>\n",
       "      <td>64</td>\n",
       "      <td>64</td>\n",
       "      <td>64</td>\n",
       "      <td>64</td>\n",
       "      <td>64</td>\n",
       "      <td>64</td>\n",
       "    </tr>\n",
       "    <tr>\n",
       "      <th>angel in pink</th>\n",
       "      <td>166</td>\n",
       "      <td>166</td>\n",
       "      <td>166</td>\n",
       "      <td>166</td>\n",
       "      <td>166</td>\n",
       "      <td>166</td>\n",
       "      <td>166</td>\n",
       "      <td>166</td>\n",
       "      <td>166</td>\n",
       "      <td>166</td>\n",
       "      <td>166</td>\n",
       "      <td>166</td>\n",
       "    </tr>\n",
       "    <tr>\n",
       "      <th>angel in pink floral</th>\n",
       "      <td>157</td>\n",
       "      <td>157</td>\n",
       "      <td>157</td>\n",
       "      <td>157</td>\n",
       "      <td>157</td>\n",
       "      <td>157</td>\n",
       "      <td>157</td>\n",
       "      <td>157</td>\n",
       "      <td>157</td>\n",
       "      <td>157</td>\n",
       "      <td>157</td>\n",
       "      <td>157</td>\n",
       "    </tr>\n",
       "    <tr>\n",
       "      <th>angel in pink tropical print</th>\n",
       "      <td>141</td>\n",
       "      <td>141</td>\n",
       "      <td>141</td>\n",
       "      <td>141</td>\n",
       "      <td>141</td>\n",
       "      <td>141</td>\n",
       "      <td>141</td>\n",
       "      <td>141</td>\n",
       "      <td>141</td>\n",
       "      <td>141</td>\n",
       "      <td>141</td>\n",
       "      <td>141</td>\n",
       "    </tr>\n",
       "    <tr>\n",
       "      <th>angel in pink with side graphic</th>\n",
       "      <td>154</td>\n",
       "      <td>154</td>\n",
       "      <td>154</td>\n",
       "      <td>154</td>\n",
       "      <td>154</td>\n",
       "      <td>154</td>\n",
       "      <td>154</td>\n",
       "      <td>154</td>\n",
       "      <td>154</td>\n",
       "      <td>154</td>\n",
       "      <td>154</td>\n",
       "      <td>154</td>\n",
       "    </tr>\n",
       "    <tr>\n",
       "      <th>...</th>\n",
       "      <td>...</td>\n",
       "      <td>...</td>\n",
       "      <td>...</td>\n",
       "      <td>...</td>\n",
       "      <td>...</td>\n",
       "      <td>...</td>\n",
       "      <td>...</td>\n",
       "      <td>...</td>\n",
       "      <td>...</td>\n",
       "      <td>...</td>\n",
       "      <td>...</td>\n",
       "      <td>...</td>\n",
       "    </tr>\n",
       "    <tr>\n",
       "      <th>starlet pink</th>\n",
       "      <td>529</td>\n",
       "      <td>529</td>\n",
       "      <td>529</td>\n",
       "      <td>529</td>\n",
       "      <td>529</td>\n",
       "      <td>529</td>\n",
       "      <td>529</td>\n",
       "      <td>529</td>\n",
       "      <td>529</td>\n",
       "      <td>529</td>\n",
       "      <td>529</td>\n",
       "      <td>529</td>\n",
       "    </tr>\n",
       "    <tr>\n",
       "      <th>starlet pink colorblock</th>\n",
       "      <td>41</td>\n",
       "      <td>41</td>\n",
       "      <td>41</td>\n",
       "      <td>41</td>\n",
       "      <td>41</td>\n",
       "      <td>41</td>\n",
       "      <td>41</td>\n",
       "      <td>41</td>\n",
       "      <td>41</td>\n",
       "      <td>41</td>\n",
       "      <td>41</td>\n",
       "      <td>41</td>\n",
       "    </tr>\n",
       "    <tr>\n",
       "      <th>starlet pink marl</th>\n",
       "      <td>125</td>\n",
       "      <td>125</td>\n",
       "      <td>125</td>\n",
       "      <td>125</td>\n",
       "      <td>125</td>\n",
       "      <td>125</td>\n",
       "      <td>125</td>\n",
       "      <td>125</td>\n",
       "      <td>125</td>\n",
       "      <td>125</td>\n",
       "      <td>125</td>\n",
       "      <td>125</td>\n",
       "    </tr>\n",
       "    <tr>\n",
       "      <th>sunset all over pink print</th>\n",
       "      <td>709</td>\n",
       "      <td>709</td>\n",
       "      <td>709</td>\n",
       "      <td>709</td>\n",
       "      <td>709</td>\n",
       "      <td>709</td>\n",
       "      <td>709</td>\n",
       "      <td>709</td>\n",
       "      <td>709</td>\n",
       "      <td>709</td>\n",
       "      <td>709</td>\n",
       "      <td>709</td>\n",
       "    </tr>\n",
       "    <tr>\n",
       "      <th>surfer pink</th>\n",
       "      <td>88</td>\n",
       "      <td>88</td>\n",
       "      <td>88</td>\n",
       "      <td>88</td>\n",
       "      <td>88</td>\n",
       "      <td>88</td>\n",
       "      <td>88</td>\n",
       "      <td>88</td>\n",
       "      <td>88</td>\n",
       "      <td>88</td>\n",
       "      <td>88</td>\n",
       "      <td>88</td>\n",
       "    </tr>\n",
       "  </tbody>\n",
       "</table>\n",
       "<p>66 rows × 12 columns</p>\n",
       "</div>"
      ],
      "text/plain": [
       "                                 product_name  mrp  price  pdp_url  \\\n",
       "color                                                                \n",
       "Baby pink                                  64   64     64       64   \n",
       "angel in pink                             166  166    166      166   \n",
       "angel in pink floral                      157  157    157      157   \n",
       "angel in pink tropical print              141  141    141      141   \n",
       "angel in pink with side graphic           154  154    154      154   \n",
       "...                                       ...  ...    ...      ...   \n",
       "starlet pink                              529  529    529      529   \n",
       "starlet pink colorblock                    41   41     41       41   \n",
       "starlet pink marl                         125  125    125      125   \n",
       "sunset all over pink print                709  709    709      709   \n",
       "surfer pink                                88   88     88       88   \n",
       "\n",
       "                                 brand_name  product_category  retailer  \\\n",
       "color                                                                     \n",
       "Baby pink                                64                64        64   \n",
       "angel in pink                           166               166       166   \n",
       "angel in pink floral                    157               157       157   \n",
       "angel in pink tropical print            141               141       141   \n",
       "angel in pink with side graphic         154               154       154   \n",
       "...                                     ...               ...       ...   \n",
       "starlet pink                            529               529       529   \n",
       "starlet pink colorblock                  41                41        41   \n",
       "starlet pink marl                       125               125       125   \n",
       "sunset all over pink print              709               709       709   \n",
       "surfer pink                              88                88        88   \n",
       "\n",
       "                                 description  rating  review_count  \\\n",
       "color                                                                \n",
       "Baby pink                                 64      64            64   \n",
       "angel in pink                            166     166           166   \n",
       "angel in pink floral                     157     157           157   \n",
       "angel in pink tropical print             141     141           141   \n",
       "angel in pink with side graphic          154     154           154   \n",
       "...                                      ...     ...           ...   \n",
       "starlet pink                             529     529           529   \n",
       "starlet pink colorblock                   41      41            41   \n",
       "starlet pink marl                        125     125           125   \n",
       "sunset all over pink print               709     709           709   \n",
       "surfer pink                               88      88            88   \n",
       "\n",
       "                                 total_sizes  available_size  \n",
       "color                                                         \n",
       "Baby pink                                 64              64  \n",
       "angel in pink                            166             166  \n",
       "angel in pink floral                     157             157  \n",
       "angel in pink tropical print             141             141  \n",
       "angel in pink with side graphic          154             154  \n",
       "...                                      ...             ...  \n",
       "starlet pink                             529             529  \n",
       "starlet pink colorblock                   41              41  \n",
       "starlet pink marl                        125             125  \n",
       "sunset all over pink print               709             709  \n",
       "surfer pink                               88              88  \n",
       "\n",
       "[66 rows x 12 columns]"
      ]
     },
     "execution_count": 6,
     "metadata": {},
     "output_type": "execute_result"
    }
   ],
   "source": [
    "# find pink products\n",
    "df.loc[df['color'].str.contains('pink')].groupby('color').count()"
   ]
  },
  {
   "cell_type": "code",
   "execution_count": 7,
   "metadata": {
    "collapsed": true
   },
   "outputs": [
    {
     "data": {
      "text/html": [
       "<div>\n",
       "<style scoped>\n",
       "    .dataframe tbody tr th:only-of-type {\n",
       "        vertical-align: middle;\n",
       "    }\n",
       "\n",
       "    .dataframe tbody tr th {\n",
       "        vertical-align: top;\n",
       "    }\n",
       "\n",
       "    .dataframe thead th {\n",
       "        text-align: right;\n",
       "    }\n",
       "</style>\n",
       "<table border=\"1\" class=\"dataframe\">\n",
       "  <thead>\n",
       "    <tr style=\"text-align: right;\">\n",
       "      <th></th>\n",
       "      <th>product_name</th>\n",
       "      <th>mrp</th>\n",
       "      <th>price</th>\n",
       "      <th>pdp_url</th>\n",
       "      <th>brand_name</th>\n",
       "      <th>product_category</th>\n",
       "      <th>retailer</th>\n",
       "      <th>description</th>\n",
       "      <th>rating</th>\n",
       "      <th>review_count</th>\n",
       "      <th>total_sizes</th>\n",
       "      <th>available_size</th>\n",
       "      <th>color</th>\n",
       "    </tr>\n",
       "  </thead>\n",
       "  <tbody>\n",
       "    <tr>\n",
       "      <th>769</th>\n",
       "      <td>So Obsessed by Victoria's Secret NEW! Add-1½-C...</td>\n",
       "      <td>58.5</td>\n",
       "      <td>58.5</td>\n",
       "      <td>https://www.victoriassecret.com/bras/shop-all-...</td>\n",
       "      <td>Victoria's Secret</td>\n",
       "      <td>Add-1½-Cups Push-Up Bra</td>\n",
       "      <td>Victoriassecret US</td>\n",
       "      <td>This push-up gives you a little extra lift for...</td>\n",
       "      <td>4.3</td>\n",
       "      <td>147.0</td>\n",
       "      <td>[\"32A\", \"32B\", \"32C\", \"32D\", \"32DD\", \"32DDD\", ...</td>\n",
       "      <td>34DD</td>\n",
       "      <td>Sheer Pink Lace</td>\n",
       "    </tr>\n",
       "    <tr>\n",
       "      <th>770</th>\n",
       "      <td>So Obsessed by Victoria's Secret NEW! Add-1½-C...</td>\n",
       "      <td>58.5</td>\n",
       "      <td>58.5</td>\n",
       "      <td>https://www.victoriassecret.com/bras/shop-all-...</td>\n",
       "      <td>Victoria's Secret</td>\n",
       "      <td>Add-1½-Cups Push-Up Bra</td>\n",
       "      <td>Victoriassecret US</td>\n",
       "      <td>This push-up gives you a little extra lift for...</td>\n",
       "      <td>4.3</td>\n",
       "      <td>147.0</td>\n",
       "      <td>[\"32A\", \"32B\", \"32C\", \"32D\", \"32DD\", \"32DDD\", ...</td>\n",
       "      <td>34D3</td>\n",
       "      <td>Sheer Pink Lace</td>\n",
       "    </tr>\n",
       "    <tr>\n",
       "      <th>771</th>\n",
       "      <td>So Obsessed by Victoria's Secret NEW! Add-1½-C...</td>\n",
       "      <td>58.5</td>\n",
       "      <td>58.5</td>\n",
       "      <td>https://www.victoriassecret.com/bras/shop-all-...</td>\n",
       "      <td>Victoria's Secret</td>\n",
       "      <td>Add-1½-Cups Push-Up Bra</td>\n",
       "      <td>Victoriassecret US</td>\n",
       "      <td>This push-up gives you a little extra lift for...</td>\n",
       "      <td>4.3</td>\n",
       "      <td>147.0</td>\n",
       "      <td>[\"32A\", \"32B\", \"32C\", \"32D\", \"32DD\", \"32DDD\", ...</td>\n",
       "      <td>32DD</td>\n",
       "      <td>Sheer Pink Lace</td>\n",
       "    </tr>\n",
       "    <tr>\n",
       "      <th>772</th>\n",
       "      <td>So Obsessed by Victoria's Secret NEW! Add-1½-C...</td>\n",
       "      <td>58.5</td>\n",
       "      <td>58.5</td>\n",
       "      <td>https://www.victoriassecret.com/bras/shop-all-...</td>\n",
       "      <td>Victoria's Secret</td>\n",
       "      <td>Add-1½-Cups Push-Up Bra</td>\n",
       "      <td>Victoriassecret US</td>\n",
       "      <td>This push-up gives you a little extra lift for...</td>\n",
       "      <td>4.3</td>\n",
       "      <td>147.0</td>\n",
       "      <td>[\"32A\", \"32B\", \"32C\", \"32D\", \"32DD\", \"32DDD\", ...</td>\n",
       "      <td>32D3</td>\n",
       "      <td>Sheer Pink Lace</td>\n",
       "    </tr>\n",
       "    <tr>\n",
       "      <th>773</th>\n",
       "      <td>So Obsessed by Victoria's Secret NEW! Add-1½-C...</td>\n",
       "      <td>58.5</td>\n",
       "      <td>58.5</td>\n",
       "      <td>https://www.victoriassecret.com/bras/shop-all-...</td>\n",
       "      <td>Victoria's Secret</td>\n",
       "      <td>Add-1½-Cups Push-Up Bra</td>\n",
       "      <td>Victoriassecret US</td>\n",
       "      <td>This push-up gives you a little extra lift for...</td>\n",
       "      <td>4.3</td>\n",
       "      <td>147.0</td>\n",
       "      <td>[\"32A\", \"32B\", \"32C\", \"32D\", \"32DD\", \"32DDD\", ...</td>\n",
       "      <td>36D3</td>\n",
       "      <td>Sheer Pink Lace</td>\n",
       "    </tr>\n",
       "    <tr>\n",
       "      <th>...</th>\n",
       "      <td>...</td>\n",
       "      <td>...</td>\n",
       "      <td>...</td>\n",
       "      <td>...</td>\n",
       "      <td>...</td>\n",
       "      <td>...</td>\n",
       "      <td>...</td>\n",
       "      <td>...</td>\n",
       "      <td>...</td>\n",
       "      <td>...</td>\n",
       "      <td>...</td>\n",
       "      <td>...</td>\n",
       "      <td>...</td>\n",
       "    </tr>\n",
       "    <tr>\n",
       "      <th>452463</th>\n",
       "      <td>Dream Angels Push-Up Bra</td>\n",
       "      <td>58.5</td>\n",
       "      <td>58.5</td>\n",
       "      <td>https://www.victoriassecret.com/bras/shop-all-...</td>\n",
       "      <td>Victoria's Secret</td>\n",
       "      <td>Push-Up Bra</td>\n",
       "      <td>Victoriassecret US</td>\n",
       "      <td>Our most heavenly push-up ever, with softer Me...</td>\n",
       "      <td>4.3</td>\n",
       "      <td>147.0</td>\n",
       "      <td>[\"30A\", \"30B\", \"30C\", \"30D\", \"30DD\", \"30DDD\", ...</td>\n",
       "      <td>32DD</td>\n",
       "      <td>White with Shell Pink Crossdye</td>\n",
       "    </tr>\n",
       "    <tr>\n",
       "      <th>452464</th>\n",
       "      <td>Dream Angels Push-Up Bra</td>\n",
       "      <td>58.5</td>\n",
       "      <td>58.5</td>\n",
       "      <td>https://www.victoriassecret.com/bras/shop-all-...</td>\n",
       "      <td>Victoria's Secret</td>\n",
       "      <td>Push-Up Bra</td>\n",
       "      <td>Victoriassecret US</td>\n",
       "      <td>Our most heavenly push-up ever, with softer Me...</td>\n",
       "      <td>4.3</td>\n",
       "      <td>147.0</td>\n",
       "      <td>[\"30A\", \"30B\", \"30C\", \"30D\", \"30DD\", \"30DDD\", ...</td>\n",
       "      <td>32D3</td>\n",
       "      <td>White with Shell Pink Crossdye</td>\n",
       "    </tr>\n",
       "    <tr>\n",
       "      <th>452466</th>\n",
       "      <td>Dream Angels Push-Up Bra</td>\n",
       "      <td>58.5</td>\n",
       "      <td>58.5</td>\n",
       "      <td>https://www.victoriassecret.com/bras/shop-all-...</td>\n",
       "      <td>Victoria's Secret</td>\n",
       "      <td>Push-Up Bra</td>\n",
       "      <td>Victoriassecret US</td>\n",
       "      <td>Our most heavenly push-up ever, with softer Me...</td>\n",
       "      <td>4.3</td>\n",
       "      <td>147.0</td>\n",
       "      <td>[\"30A\", \"30B\", \"30C\", \"30D\", \"30DD\", \"30DDD\", ...</td>\n",
       "      <td>36D3</td>\n",
       "      <td>White with Shell Pink Crossdye</td>\n",
       "    </tr>\n",
       "    <tr>\n",
       "      <th>452468</th>\n",
       "      <td>Dream Angels Push-Up Bra</td>\n",
       "      <td>58.5</td>\n",
       "      <td>58.5</td>\n",
       "      <td>https://www.victoriassecret.com/bras/shop-all-...</td>\n",
       "      <td>Victoria's Secret</td>\n",
       "      <td>Push-Up Bra</td>\n",
       "      <td>Victoriassecret US</td>\n",
       "      <td>Our most heavenly push-up ever, with softer Me...</td>\n",
       "      <td>4.3</td>\n",
       "      <td>147.0</td>\n",
       "      <td>[\"30A\", \"30B\", \"30C\", \"30D\", \"30DD\", \"30DDD\", ...</td>\n",
       "      <td>36DD</td>\n",
       "      <td>White with Shell Pink Crossdye</td>\n",
       "    </tr>\n",
       "    <tr>\n",
       "      <th>452470</th>\n",
       "      <td>Dream Angels Push-Up Bra</td>\n",
       "      <td>58.5</td>\n",
       "      <td>58.5</td>\n",
       "      <td>https://www.victoriassecret.com/bras/shop-all-...</td>\n",
       "      <td>Victoria's Secret</td>\n",
       "      <td>Push-Up Bra</td>\n",
       "      <td>Victoriassecret US</td>\n",
       "      <td>Our most heavenly push-up ever, with softer Me...</td>\n",
       "      <td>4.3</td>\n",
       "      <td>147.0</td>\n",
       "      <td>[\"30A\", \"30B\", \"30C\", \"30D\", \"30DD\", \"30DDD\", ...</td>\n",
       "      <td>38DD</td>\n",
       "      <td>White with Shell Pink Crossdye</td>\n",
       "    </tr>\n",
       "  </tbody>\n",
       "</table>\n",
       "<p>7450 rows × 13 columns</p>\n",
       "</div>"
      ],
      "text/plain": [
       "                                             product_name   mrp  price  \\\n",
       "769     So Obsessed by Victoria's Secret NEW! Add-1½-C...  58.5   58.5   \n",
       "770     So Obsessed by Victoria's Secret NEW! Add-1½-C...  58.5   58.5   \n",
       "771     So Obsessed by Victoria's Secret NEW! Add-1½-C...  58.5   58.5   \n",
       "772     So Obsessed by Victoria's Secret NEW! Add-1½-C...  58.5   58.5   \n",
       "773     So Obsessed by Victoria's Secret NEW! Add-1½-C...  58.5   58.5   \n",
       "...                                                   ...   ...    ...   \n",
       "452463                           Dream Angels Push-Up Bra  58.5   58.5   \n",
       "452464                           Dream Angels Push-Up Bra  58.5   58.5   \n",
       "452466                           Dream Angels Push-Up Bra  58.5   58.5   \n",
       "452468                           Dream Angels Push-Up Bra  58.5   58.5   \n",
       "452470                           Dream Angels Push-Up Bra  58.5   58.5   \n",
       "\n",
       "                                                  pdp_url         brand_name  \\\n",
       "769     https://www.victoriassecret.com/bras/shop-all-...  Victoria's Secret   \n",
       "770     https://www.victoriassecret.com/bras/shop-all-...  Victoria's Secret   \n",
       "771     https://www.victoriassecret.com/bras/shop-all-...  Victoria's Secret   \n",
       "772     https://www.victoriassecret.com/bras/shop-all-...  Victoria's Secret   \n",
       "773     https://www.victoriassecret.com/bras/shop-all-...  Victoria's Secret   \n",
       "...                                                   ...                ...   \n",
       "452463  https://www.victoriassecret.com/bras/shop-all-...  Victoria's Secret   \n",
       "452464  https://www.victoriassecret.com/bras/shop-all-...  Victoria's Secret   \n",
       "452466  https://www.victoriassecret.com/bras/shop-all-...  Victoria's Secret   \n",
       "452468  https://www.victoriassecret.com/bras/shop-all-...  Victoria's Secret   \n",
       "452470  https://www.victoriassecret.com/bras/shop-all-...  Victoria's Secret   \n",
       "\n",
       "               product_category            retailer  \\\n",
       "769     Add-1½-Cups Push-Up Bra  Victoriassecret US   \n",
       "770     Add-1½-Cups Push-Up Bra  Victoriassecret US   \n",
       "771     Add-1½-Cups Push-Up Bra  Victoriassecret US   \n",
       "772     Add-1½-Cups Push-Up Bra  Victoriassecret US   \n",
       "773     Add-1½-Cups Push-Up Bra  Victoriassecret US   \n",
       "...                         ...                 ...   \n",
       "452463              Push-Up Bra  Victoriassecret US   \n",
       "452464              Push-Up Bra  Victoriassecret US   \n",
       "452466              Push-Up Bra  Victoriassecret US   \n",
       "452468              Push-Up Bra  Victoriassecret US   \n",
       "452470              Push-Up Bra  Victoriassecret US   \n",
       "\n",
       "                                              description  rating  \\\n",
       "769     This push-up gives you a little extra lift for...     4.3   \n",
       "770     This push-up gives you a little extra lift for...     4.3   \n",
       "771     This push-up gives you a little extra lift for...     4.3   \n",
       "772     This push-up gives you a little extra lift for...     4.3   \n",
       "773     This push-up gives you a little extra lift for...     4.3   \n",
       "...                                                   ...     ...   \n",
       "452463  Our most heavenly push-up ever, with softer Me...     4.3   \n",
       "452464  Our most heavenly push-up ever, with softer Me...     4.3   \n",
       "452466  Our most heavenly push-up ever, with softer Me...     4.3   \n",
       "452468  Our most heavenly push-up ever, with softer Me...     4.3   \n",
       "452470  Our most heavenly push-up ever, with softer Me...     4.3   \n",
       "\n",
       "        review_count                                        total_sizes  \\\n",
       "769            147.0  [\"32A\", \"32B\", \"32C\", \"32D\", \"32DD\", \"32DDD\", ...   \n",
       "770            147.0  [\"32A\", \"32B\", \"32C\", \"32D\", \"32DD\", \"32DDD\", ...   \n",
       "771            147.0  [\"32A\", \"32B\", \"32C\", \"32D\", \"32DD\", \"32DDD\", ...   \n",
       "772            147.0  [\"32A\", \"32B\", \"32C\", \"32D\", \"32DD\", \"32DDD\", ...   \n",
       "773            147.0  [\"32A\", \"32B\", \"32C\", \"32D\", \"32DD\", \"32DDD\", ...   \n",
       "...              ...                                                ...   \n",
       "452463         147.0  [\"30A\", \"30B\", \"30C\", \"30D\", \"30DD\", \"30DDD\", ...   \n",
       "452464         147.0  [\"30A\", \"30B\", \"30C\", \"30D\", \"30DD\", \"30DDD\", ...   \n",
       "452466         147.0  [\"30A\", \"30B\", \"30C\", \"30D\", \"30DD\", \"30DDD\", ...   \n",
       "452468         147.0  [\"30A\", \"30B\", \"30C\", \"30D\", \"30DD\", \"30DDD\", ...   \n",
       "452470         147.0  [\"30A\", \"30B\", \"30C\", \"30D\", \"30DD\", \"30DDD\", ...   \n",
       "\n",
       "       available_size                           color  \n",
       "769              34DD                 Sheer Pink Lace  \n",
       "770              34D3                 Sheer Pink Lace  \n",
       "771              32DD                 Sheer Pink Lace  \n",
       "772              32D3                 Sheer Pink Lace  \n",
       "773              36D3                 Sheer Pink Lace  \n",
       "...               ...                             ...  \n",
       "452463           32DD  White with Shell Pink Crossdye  \n",
       "452464           32D3  White with Shell Pink Crossdye  \n",
       "452466           36D3  White with Shell Pink Crossdye  \n",
       "452468           36DD  White with Shell Pink Crossdye  \n",
       "452470           38DD  White with Shell Pink Crossdye  \n",
       "\n",
       "[7450 rows x 13 columns]"
      ]
     },
     "execution_count": 7,
     "metadata": {},
     "output_type": "execute_result"
    }
   ],
   "source": [
    "# find pink color and more expensive than 50$ products\n",
    "df.loc[df['color'].str.contains('pink', regex=False, case=False) & (df['price']>=50)]"
   ]
  },
  {
   "cell_type": "markdown",
   "metadata": {
    "heading_collapsed": true,
    "hidden": true
   },
   "source": [
    "#### Question 2\n",
    "\n",
    "What are the cheapest products which exists in size 36B? In which colors are they available?"
   ]
  },
  {
   "cell_type": "code",
   "execution_count": 11,
   "metadata": {},
   "outputs": [
    {
     "data": {
      "text/plain": [
       "0.025139197999999998"
      ]
     },
     "execution_count": 11,
     "metadata": {},
     "output_type": "execute_result"
    }
   ],
   "source": [
    "cheapest_price = df.query('available_size==\"36B\"')['price'].min()\n",
    "cheapest_price "
   ]
  },
  {
   "cell_type": "code",
   "execution_count": 12,
   "metadata": {
    "collapsed": true
   },
   "outputs": [
    {
     "data": {
      "text/plain": [
       "[0.007131571,\n",
       " 0.020975277,\n",
       " 0.025139197999999998,\n",
       " 0.028945842,\n",
       " 0.033140934,\n",
       " 0.0445842,\n",
       " 0.046682999999999995,\n",
       " 2.99,\n",
       " 3.99,\n",
       " 4.99,\n",
       " 5.0,\n",
       " 5.99,\n",
       " 7.99,\n",
       " 8.5,\n",
       " 9.95,\n",
       " 9.99,\n",
       " 10.5,\n",
       " 12.95,\n",
       " 12.99,\n",
       " 14.5,\n",
       " 14.99,\n",
       " 15.0,\n",
       " 16.5,\n",
       " 16.95,\n",
       " 16.99,\n",
       " 17.99,\n",
       " 19.99,\n",
       " 20.0,\n",
       " 21.99,\n",
       " 22.5,\n",
       " 22.95,\n",
       " 23.99,\n",
       " 24.0,\n",
       " 24.5,\n",
       " 24.95,\n",
       " 24.99,\n",
       " 25.0,\n",
       " 26.95,\n",
       " 27.95,\n",
       " 28.0,\n",
       " 28.95,\n",
       " 29.5,\n",
       " 29.95,\n",
       " 29.99,\n",
       " 30.0,\n",
       " 32.0,\n",
       " 32.5,\n",
       " 32.95,\n",
       " 32.99,\n",
       " 34.0,\n",
       " 34.5,\n",
       " 34.95,\n",
       " 34.99,\n",
       " 35.99,\n",
       " 36.0,\n",
       " 36.5,\n",
       " 36.95,\n",
       " 38.0,\n",
       " 38.5,\n",
       " 39.5,\n",
       " 39.95,\n",
       " 39.99,\n",
       " 40.0,\n",
       " 42.0,\n",
       " 42.5,\n",
       " 42.95,\n",
       " 44.5,\n",
       " 44.95,\n",
       " 45.0,\n",
       " 46.5,\n",
       " 48.0,\n",
       " 48.5,\n",
       " 48.95,\n",
       " 49.5,\n",
       " 49.95,\n",
       " 52.0,\n",
       " 52.5,\n",
       " 54.0,\n",
       " 54.5,\n",
       " 54.95,\n",
       " 55.5,\n",
       " 56.5,\n",
       " 58.0,\n",
       " 58.5,\n",
       " 59.5,\n",
       " 59.95,\n",
       " 62.0,\n",
       " 62.5,\n",
       " 64.5,\n",
       " 64.95,\n",
       " 66.5,\n",
       " 68.0,\n",
       " 68.5,\n",
       " 69.5,\n",
       " 78.0,\n",
       " 98.0]"
      ]
     },
     "execution_count": 12,
     "metadata": {},
     "output_type": "execute_result"
    }
   ],
   "source": [
    "sorted(df['price'].unique()) # there are a lot of ouliers so we consider the cheapest price is 5"
   ]
  },
  {
   "cell_type": "code",
   "execution_count": 46,
   "metadata": {
    "collapsed": true,
    "hidden": true
   },
   "outputs": [
    {
     "data": {
      "text/plain": [
       "(Index(['The Bralette Collection Scoopneck Bralette',\n",
       "        'The Bralette Collection Lace Scoopneck Bralette',\n",
       "        'Victoria Sport Lightweight by Victoria Sport Bra',\n",
       "        'Victoria Sport Strappy Triangle Sport Bra',\n",
       "        'The Player Lace-Up Sport Bra',\n",
       "        'The Bralette Collection Mesh Plunge Bralette',\n",
       "        'The Bralette Collection Crisscross Scoop Bralette',\n",
       "        'The Bralette Collection Bandeau Flounce Bralette',\n",
       "        'The Bralette Collection Mesh Scoopneck Bralette',\n",
       "        'The Bralette Collection Mesh Front-close Bralette'],\n",
       "       dtype='object', name='product_name'),\n",
       " Index(['Cadette Green', 'Black', 'Rosy Mauve', 'Ginger Glaze',\n",
       "        'Cozumel Teal Lace Back', 'Navy', 'Ensign', 'French Sage Lace Back',\n",
       "        'Starlet Pink', 'Gold Earth', 'Black Lace Back', 'Black Marl', 'White',\n",
       "        'Ensign Print', 'Coconut White', 'Camilla Rose', 'Ruby Wine Lace Back',\n",
       "        'Silver Sea', 'Ruby Wine', 'Lipsmacker', 'Light Comet', 'Inkblot',\n",
       "        'Black/White Stripe', 'Grape Soda', 'So Silver Lace Back',\n",
       "        'Black Textured Mesh', 'Firework Texture', 'Seychelles',\n",
       "        'Cool Rainbow Rings', 'Endless Orange', 'Grey Oasis', 'Red Geometric',\n",
       "        'Grey Oasis Monofilament', 'Red Sacred Geometry', 'Hello Lovely',\n",
       "        'Black Blocked Curves', 'Cool Textile Stripe', 'Wavy Arrows',\n",
       "        'Purple Rapture', 'Blue Camo Zebra', 'Tinted Plum Mesh Curves',\n",
       "        'Warm Spraypaint Triangles', 'White Colorblock', 'Black Monofilament',\n",
       "        'Border Line', 'Inkblot Colorblock', 'Black Pearl Textured Mesh',\n",
       "        'Cozumel Teal Two Tone Print', 'Gentle Mauve Textured Mesh',\n",
       "        'Floral Wave', 'Laced Arrows', 'Tinted Plum', 'Black Wrap',\n",
       "        'Sterling Pewter Wrap', 'Ensign Multi Print', 'Chintz Rose Wrap',\n",
       "        'Gold Earth Multi Print', 'Summer Blues', 'Gold Earth Print',\n",
       "        'Grey Traced Chevron', 'Sheer Pink Floral Print',\n",
       "        'Black/White Blended Swirl', 'Sterling Pewter Two Tone Print',\n",
       "        'Silver Pewter Two Tone Print', 'Blue Floral Print',\n",
       "        'Gold Earth Two Tone Print', 'Gentle Mauve'],\n",
       "       dtype='object', name='color'))"
      ]
     },
     "execution_count": 46,
     "metadata": {},
     "output_type": "execute_result"
    }
   ],
   "source": [
    "df[df['price']==5]['product_name'].value_counts().index,\\\n",
    "df[df['price']==5]['color'].value_counts().index"
   ]
  },
  {
   "cell_type": "markdown",
   "metadata": {
    "hidden": true
   },
   "source": [
    "We can do the same, but checking for products for which `total_sizes` contains '36B'"
   ]
  },
  {
   "cell_type": "code",
   "execution_count": 47,
   "metadata": {
    "collapsed": true,
    "hidden": true
   },
   "outputs": [
    {
     "data": {
      "text/plain": [
       "array(['Body by Victoria Demi Bra',\n",
       "       'Dream Angels NEW! The Wicked Unlined Uplift Bra',\n",
       "       'Victoria Sport NEW! Lightweight by Victoria Sport Strappy Sport Bra',\n",
       "       'Very Sexy Push-Up Bra',\n",
       "       \"So Obsessed by Victoria's Secret NEW! Add-1½-Cups Push-Up Bra\",\n",
       "       'Very Sexy NEW! Strappy Push-Up Bra',\n",
       "       'Victoria Sport Knockout by Victoria Sport Front-Close Sport Bra',\n",
       "       'Dream Angels Mini Lace Bustier',\n",
       "       'Dream Angels NEW! Lace Long Line Bra',\n",
       "       'Victoria Sport Incredible by Victoria Sport Bra',\n",
       "       'Body by Victoria Unlined Demi Bra', 'Sexy Tee Demi Bra',\n",
       "       'Dream Angels NEW! Lace-up Bodysuit',\n",
       "       'PINK NEW! Wear Everywhere Super Push',\n",
       "       'PINK NEW! Wear Everywhere Multi-Way Push-Up Bra',\n",
       "       'Dream Angels NEW! Embroidered Lace Bustier',\n",
       "       'Dream Angels Crochet Lace Strapless Bralette',\n",
       "       'Dream Angels Demi Bra', 'The T-Shirt NEW! Perfect Shape Bra',\n",
       "       'Victoria Sport NEW! Knockout by Victoria Sport Front-Close Sport Bra',\n",
       "       'Lace Easy Push-Up Bra', 'PINK NEW! Wear Everywhere Push-Up Bra',\n",
       "       'Very Sexy NEW! Push-Up Bra', 'Body by Victoria Multi-Way Bra',\n",
       "       'Sexy Tee Perfect Coverage Bra', 'Body by Victoria Wireless Bra',\n",
       "       'Dream Angels Lace Push-Up Bra',\n",
       "       'PINK NEW! The Date Racerback Push-Up Bra',\n",
       "       'Body by Victoria NEW! Unlined Demi Bra',\n",
       "       'Victoria Sport NEW! Incredible by Victoria Sport Bra',\n",
       "       'Dream Angels NEW! Floral Applique Long Line Bra',\n",
       "       'Dream Angels Multi-Way Bra', 'Body by Victoria Strapless Bra',\n",
       "       'PINK Wear Everywhere Lightly Lined Bra', 'Easy Push-Up Bra',\n",
       "       'Bombshell Add-2-Cups Multi-Way Push-Up Bra', 'Easy Plunge Bra',\n",
       "       'The T-Shirt Wireless Bra',\n",
       "       'Body by Victoria NEW! Lace Plunge Unlined Demi Bra',\n",
       "       'Dream Angels The Wicked Unlined Uplift Bra',\n",
       "       'PINK Wear Everywhere Super Push',\n",
       "       'Very Sexy Fishnet Lace Bustier', 'Body by Victoria NEW! Demi Bra',\n",
       "       'Very Sexy Crochet Lace Triangle Bra',\n",
       "       'Victoria Sport NEW! Incredible by Victoria Sport Front-close Sport Bra',\n",
       "       'PINK NEW! Wear Everywhere T-Shirt Bra',\n",
       "       'PINK NEW! Wear Everywhere Lightly Lined Bra',\n",
       "       'Body by Victoria Lace Unlined Demi Bra',\n",
       "       'PINK NEW! Lace Logo Push-Up Racerback Bra',\n",
       "       'PINK Wear Everywhere Lightly Lined Strapless Bra',\n",
       "       'PINK Wear Everywhere T-Shirt Bra',\n",
       "       'Very Sexy Lace High-neck Demi Bra',\n",
       "       'Body by Victoria NEW! Perfect Coverage Bra',\n",
       "       'Dream Angels NEW! Push-Up Bra', 'Sexy Tee Push-Up Bra',\n",
       "       'Body by Victoria Perfect Coverage Bra',\n",
       "       'Victoria Sport Lightweight by Victoria Sport Strappy Sport Bra',\n",
       "       'Victoria Sport NEW! Lightweight by Victoria Sport Bra',\n",
       "       'PINK NEW! Wear Everywhere T-Back Push-Up Bra',\n",
       "       'Body by Victoria Strapless Balconet Bra',\n",
       "       'PINK NEW! Date Unlined Bra',\n",
       "       'PINK NEW! Ribbed Logo Strappy Push-Up Bra',\n",
       "       'Very Sexy NEW! Keyhole Lace Teddy', 'PINK Palm Lace Push-Up Bra',\n",
       "       'Very Sexy NEW! Multi-Way Bra', 'PINK Lace T-Shirt Bra',\n",
       "       'Victoria Sport Lightweight by Victoria Sport Bra',\n",
       "       'PINK NEW! The Date Push-Up Bra',\n",
       "       'Bombshell Add-2-Cups Push-Up Bra', 'Keyhole Push-Up Bra',\n",
       "       'Body by Victoria NEW! Perfect Shape Bra',\n",
       "       'NEW! Date Lightly Lined Bra', 'PINK The Date Push-Up Bra',\n",
       "       'Dream Angels NEW! Demi Bra', 'Dream Angels Lace Bustier',\n",
       "       'The T-Shirt Demi Bra',\n",
       "       'PINK NEW! Super Soft Lace Push-Up Racerback Bra',\n",
       "       'PINK Wear Everywhere Push-Up T-Back Bra',\n",
       "       'Very Sexy Crochet Lace Push-Up Bra',\n",
       "       'Very Sexy Fishnet Lace Teddy', 'Dream Angels Push-Up Bra',\n",
       "       'Very Sexy Strappy Push-Up Bra',\n",
       "       'Bombshell NEW! Add-2-Cups Push-Up Bra',\n",
       "       'PINK Wear Everywhere Push-Up Bra',\n",
       "       'Victoria Sport Incredible by Victoria Sport Front-close Sport Bra',\n",
       "       'The T-Shirt NEW! Demi Bra', 'Body by Victoria Perfect Shape Bra',\n",
       "       'The T-Shirt Perfect Shape Bra', 'Lightly Lined Wireless Bra',\n",
       "       'PINK Palm Lace Strappy Push-Up',\n",
       "       \"So Obsessed by Victoria's Secret NEW! Add-1-Cups Push-Up Bra\",\n",
       "       'Very Sexy Lace & Mesh Unlined Strapless Bra',\n",
       "       'PINK Date Unlined Bra', 'PINK Daisy Lace Racerback Push-Up',\n",
       "       'Very Sexy Lace Off-the-shoulder Bodysuit',\n",
       "       'PINK New! Wear Everywhere Multi-way Push-Up Bra',\n",
       "       'NEW! Date Unlined Bra',\n",
       "       \"So Obsessed by Victoria's Secret Add-1½-Cups Push-Up Bra\",\n",
       "       'NEW! Super Soft Lace Push-Up Racerback Bra',\n",
       "       'NEW! Ribbed Logo Strappy Push-Up Bra',\n",
       "       'Dream Angels Lace Demi Bra', 'Very Sexy Lace & Mesh Teddy',\n",
       "       'Body by Victoria Lace Plunge Unlined Demi Bra',\n",
       "       'Lightly Lined Triangle Bralette', 'Very Sexy Lace Balconet Bra',\n",
       "       'Dream Angels Wicked Lace Demi Bra', 'Push Up Plunge Bra',\n",
       "       'Dream Angels Lace Bandeau',\n",
       "       'Body by Victoria Lace Triangle Underwire Bralette',\n",
       "       'Very Sexy Strappy Plunge Bra', 'Body by Victoria Unlined Demi',\n",
       "       'Very Sexy Strapless Lace Bustier',\n",
       "       'Very Sexy NEW! XO Lace Front-Close Unlined Demi Bra',\n",
       "       'Body by Victoria Front-Close Unlined Bralette',\n",
       "       'Dream Angels Crochet Lace High-neck Bra',\n",
       "       'PINK The Date Racerback Push-Up Bra', 'Lightly Lined Demi Bra',\n",
       "       'NEW! Wear Everywhere Push-Up Bra',\n",
       "       'NEW! Lace Logo Push-Up Racerback Bra',\n",
       "       'Very Sexy Lace-trim Babydoll',\n",
       "       'Dream Angels Wicked The Unlined Uplift Bra',\n",
       "       'Very Sexy Multi-Way Bra', 'Very Sexy Wildflower Lace Bustier',\n",
       "       'Body by Victoria NEW! Strapless Balconet Bra',\n",
       "       'Easy Twist Push-Up Bra', 'Dream Angels Wicked Unlined Uplift Bra',\n",
       "       'Very Sexy NEW! Fishnet Lace Teddy'], dtype=object)"
      ]
     },
     "execution_count": 47,
     "metadata": {},
     "output_type": "execute_result"
    }
   ],
   "source": [
    "df[df['total_sizes'].str.contains('36B')]['product_name'].unique()"
   ]
  },
  {
   "cell_type": "markdown",
   "metadata": {
    "heading_collapsed": true,
    "hidden": true
   },
   "source": [
    "#### question 3\n",
    "\n",
    "What are the most popular products? (those which have the best ratings)\n",
    "\n",
    "What are the least popular products?\n",
    "\n",
    "What are the products which have the highest number of reviews?\n",
    "\n",
    "Which black color product has the highest ratings? (or your favorite color)\n",
    "\n",
    "Which colors correspond to the highest rating?"
   ]
  },
  {
   "cell_type": "code",
   "execution_count": 48,
   "metadata": {
    "hidden": true
   },
   "outputs": [
    {
     "data": {
      "text/plain": [
       "'Dream Angels Crochet Lace High-neck Bodysuit'"
      ]
     },
     "execution_count": 48,
     "metadata": {},
     "output_type": "execute_result"
    }
   ],
   "source": [
    "# most popular products\n",
    "df.groupby('product_name')['rating'].mean().idxmax()"
   ]
  },
  {
   "cell_type": "code",
   "execution_count": 36,
   "metadata": {},
   "outputs": [
    {
     "data": {
      "text/plain": [
       "<Axes: ylabel='Frequency'>"
      ]
     },
     "execution_count": 36,
     "metadata": {},
     "output_type": "execute_result"
    },
    {
     "data": {
      "image/png": "[encoded data removed]",
      "text/plain": [
       "<Figure size 640x480 with 1 Axes>"
      ]
     },
     "metadata": {},
     "output_type": "display_data"
    }
   ],
   "source": [
    "# use groupby to find the least popular products\n",
    "df.groupby('product_name')['rating'].mean().plot(kind='hist')"
   ]
  },
  {
   "cell_type": "code",
   "execution_count": 37,
   "metadata": {},
   "outputs": [
    {
     "data": {
      "text/plain": [
       "'PINK Wear Everywhere Push-Up T-Back Bra'"
      ]
     },
     "execution_count": 37,
     "metadata": {},
     "output_type": "execute_result"
    }
   ],
   "source": [
    "df.groupby('product_name')['rating'].mean().idxmin()"
   ]
  },
  {
   "cell_type": "code",
   "execution_count": 38,
   "metadata": {},
   "outputs": [
    {
     "data": {
      "text/plain": [
       "1.5600000000000001e+38"
      ]
     },
     "execution_count": 38,
     "metadata": {},
     "output_type": "execute_result"
    }
   ],
   "source": [
    "# products which have the highest number of reviews\n",
    "df['review_count'].max()  "
   ]
  },
  {
   "cell_type": "code",
   "execution_count": 51,
   "metadata": {},
   "outputs": [
    {
     "data": {
      "text/plain": [
       "<Axes: ylabel='Frequency'>"
      ]
     },
     "execution_count": 51,
     "metadata": {},
     "output_type": "execute_result"
    },
    {
     "data": {
      "image/png": "[encoded data removed]",
      "text/plain": [
       "<Figure size 640x480 with 1 Axes>"
      ]
     },
     "metadata": {},
     "output_type": "display_data"
    }
   ],
   "source": [
    "df['review_count'].plot(kind = 'hist') # according to plot 1.5600000000000001e+38 is an outlier"
   ]
  },
  {
   "cell_type": "code",
   "execution_count": 58,
   "metadata": {},
   "outputs": [
    {
     "data": {
      "text/plain": [
       "109754    1.560000e+38\n",
       "27884     1.560000e+38\n",
       "102189    1.560000e+38\n",
       "102190    1.560000e+38\n",
       "102191    1.560000e+38\n",
       "102192    1.560000e+38\n",
       "102193    1.560000e+38\n",
       "102194    1.560000e+38\n",
       "102195    1.560000e+38\n",
       "102196    1.560000e+38\n",
       "102197    1.560000e+38\n",
       "Name: review_count, dtype: float64"
      ]
     },
     "execution_count": 58,
     "metadata": {},
     "output_type": "execute_result"
    }
   ],
   "source": [
    "df['review_count'].sort_values(ascending= False)[0:11]"
   ]
  },
  {
   "cell_type": "code",
   "execution_count": 54,
   "metadata": {
    "collapsed": true
   },
   "outputs": [
    {
     "data": {
      "text/plain": [
       "array(['Dream Angels Lace-Trim Thong Panty',\n",
       "       'Everyday Perfect NEW! Hipster Panty',\n",
       "       'Very Sexy Satin Cami & Short Set',\n",
       "       'Very Sexy NEW! Plunge Lace-up Teddy',\n",
       "       'Dream Angels NEW! Racerback Lace Bodysuit',\n",
       "       'Dream Angels NEW! Lace & Mesh Cheekini Panty',\n",
       "       'Victoria Sport NEW! Lightweight by Victoria Sport Strappy Sport Bra',\n",
       "       'Very Sexy NEW! XO V-string Panty',\n",
       "       'Very Sexy Lace & Mesh Thong Panty',\n",
       "       'Very Sexy Chiffon Cami & Short Set',\n",
       "       'Very Sexy NEW! Lace-up High-neck Bra',\n",
       "       'PINK NEW! Cropped Raglan Full-Zip'], dtype=object)"
      ]
     },
     "execution_count": 54,
     "metadata": {},
     "output_type": "execute_result"
    }
   ],
   "source": [
    "# black color product has the highest ratings \n",
    "df[(df['color'].str.contains('black', case = False)) & (df['rating']==df['rating'].max())]['product_name'].unique()"
   ]
  },
  {
   "cell_type": "code",
   "execution_count": 60,
   "metadata": {},
   "outputs": [
    {
     "data": {
      "text/plain": [
       "'ink blot lace trim'"
      ]
     },
     "execution_count": 60,
     "metadata": {},
     "output_type": "execute_result"
    }
   ],
   "source": [
    "# Which colors correspond to the highest rating\n",
    "df.groupby('color')['rating'].mean().idxmax()"
   ]
  },
  {
   "cell_type": "markdown",
   "metadata": {
    "heading_collapsed": true,
    "hidden": true
   },
   "source": [
    "#### Question 4\n",
    "\n",
    "What are the cheapest 'sport bras'?\n",
    "\n",
    "Which have the best ratings?"
   ]
  },
  {
   "cell_type": "code",
   "execution_count": 93,
   "metadata": {},
   "outputs": [
    {
     "data": {
      "text/plain": [
       "5.0"
      ]
     },
     "execution_count": 93,
     "metadata": {},
     "output_type": "execute_result"
    }
   ],
   "source": [
    "cheapest_price = df[df['product_category'].str.contains('Sport Bra', case = False)]['price'].min()\n",
    "\n",
    "cheapest_price"
   ]
  },
  {
   "cell_type": "code",
   "execution_count": 96,
   "metadata": {},
   "outputs": [
    {
     "data": {
      "text/plain": [
       "array(['Victoria Sport Strappy Triangle Sport Bra',\n",
       "       'The Player Lace-Up Sport Bra',\n",
       "       'Victoria Sport Lightweight by Victoria Sport Bra'], dtype=object)"
      ]
     },
     "execution_count": 96,
     "metadata": {},
     "output_type": "execute_result"
    }
   ],
   "source": [
    "# the cheapest 'sport bras'\n",
    "cheapest_sport_bras = df[(df['product_category'].str.contains('Sport Bra')) & (df['price']== cheapest_price)]\\\n",
    "['product_name'].unique()\n",
    "\n",
    "cheapest_sport_bras"
   ]
  },
  {
   "cell_type": "code",
   "execution_count": 97,
   "metadata": {},
   "outputs": [
    {
     "data": {
      "text/plain": [
       "'Victoria Sport Lightweight by Victoria Sport Bra'"
      ]
     },
     "execution_count": 97,
     "metadata": {},
     "output_type": "execute_result"
    }
   ],
   "source": [
    "# Which have the best ratings?\n",
    "df[df['product_name'].isin(cheapest_sport_bras)].groupby('product_name')['rating'].mean().idxmax()"
   ]
  },
  {
   "cell_type": "markdown",
   "metadata": {
    "heading_collapsed": true,
    "hidden": true
   },
   "source": [
    "#### Question 5\n",
    "What is the most expensive belt? in which color is it available?"
   ]
  },
  {
   "cell_type": "code",
   "execution_count": 74,
   "metadata": {},
   "outputs": [
    {
     "data": {
      "text/plain": [
       "array(['black hearts print'], dtype=object)"
      ]
     },
     "execution_count": 74,
     "metadata": {},
     "output_type": "execute_result"
    }
   ],
   "source": [
    "df[df['product_category'].str.contains('belt', case = False)]['color'].unique()"
   ]
  },
  {
   "cell_type": "markdown",
   "metadata": {
    "heading_collapsed": true,
    "hidden": true
   },
   "source": [
    "#### Question 6\n",
    "\n",
    "What is the most common color of the best rated products?\n",
    "\n",
    "What is then the best rated product available in the most popular color?"
   ]
  },
  {
   "cell_type": "code",
   "execution_count": 107,
   "metadata": {
    "hidden": true
   },
   "outputs": [
    {
     "data": {
      "text/plain": [
       "'Black'"
      ]
     },
     "execution_count": 107,
     "metadata": {},
     "output_type": "execute_result"
    }
   ],
   "source": [
    "# What is the most common color of the best rated products?\n",
    "best_rated_product = df[df['rating']==df['rating'].max()]['product_name'].unique()\n",
    "df[df['product_name'].isin(best_rated_product)]['color'].value_counts().idxmax()"
   ]
  },
  {
   "cell_type": "code",
   "execution_count": 104,
   "metadata": {},
   "outputs": [
    {
     "data": {
      "text/plain": [
       "\"So Obsessed by Victoria's Secret NEW! Add-1-Cups Push-Up Bra\""
      ]
     },
     "execution_count": 104,
     "metadata": {},
     "output_type": "execute_result"
    }
   ],
   "source": [
    "# What is then the best rated product available in the most popular color?\n",
    "most_popular_color = df['color'].value_counts().idxmax()\n",
    "df[df['color']==most_popular_color].groupby('product_name')['rating'].mean().idxmax()"
   ]
  }
 ],
 "metadata": {
  "kernelspec": {
   "display_name": "Python 3 (ipykernel)",
   "language": "python",
   "name": "python3"
  },
  "language_info": {
   "codemirror_mode": {
    "name": "ipython",
    "version": 3
   },
   "file_extension": ".py",
   "mimetype": "text/x-python",
   "name": "python",
   "nbconvert_exporter": "python",
   "pygments_lexer": "ipython3",
   "version": "3.11.5"
  }
 },
 "nbformat": 4,
 "nbformat_minor": 2
}
